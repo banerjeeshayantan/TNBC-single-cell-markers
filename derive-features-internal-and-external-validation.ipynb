{
 "cells": [
  {
   "cell_type": "code",
   "execution_count": 1,
   "metadata": {},
   "outputs": [],
   "source": [
    "# import warnings filter\n",
    "from warnings import simplefilter\n",
    "# ignore all future warnings\n",
    "simplefilter(action='ignore', category=FutureWarning)\n",
    "import pandas as pd\n",
    "import numpy as np\n",
    "from numpy import arange\n",
    "from numpy import argmax\n",
    "import xgboost\n",
    "from sklearn.metrics import precision_score\n",
    "from sklearn.ensemble import StackingClassifier\n",
    "from sklearn.ensemble import VotingClassifier\n",
    "from sklearn.ensemble import RandomForestClassifier\n",
    "from sklearn.model_selection import GridSearchCV\n",
    "from sklearn.model_selection import train_test_split\n",
    "from numpy import arange\n",
    "from sklearn.metrics import accuracy_score\n",
    "import copy\n",
    "import matplotlib.pyplot as plt\n",
    "from sklearn.feature_selection import SelectFromModel\n",
    "from sklearn.ensemble import ExtraTreesClassifier\n",
    "from sklearn.ensemble import GradientBoostingClassifier\n",
    "from sklearn.ensemble import AdaBoostClassifier\n",
    "from numpy import argmax\n",
    "from sklearn import metrics\n",
    "from imblearn.metrics import sensitivity_score\n",
    "from imblearn.metrics import specificity_score\n",
    "from sklearn.metrics import roc_auc_score\n",
    "from sklearn.metrics import accuracy_score\n",
    "from sklearn.tree import DecisionTreeClassifier\n",
    "from sklearn.linear_model import LogisticRegression\n",
    "from sklearn.naive_bayes import MultinomialNB\n",
    "from sklearn.naive_bayes import GaussianNB\n",
    "from sklearn.svm import LinearSVC, SVC\n",
    "from sklearn.neighbors import KNeighborsClassifier\n",
    "from sklearn.model_selection import cross_val_score\n",
    "from sklearn.model_selection import cross_validate\n",
    "from sklearn.model_selection import GridSearchCV\n",
    "from sklearn.ensemble import RandomForestClassifier, VotingClassifier\n",
    "from sklearn import preprocessing\n",
    "from sklearn.preprocessing import MinMaxScaler, RobustScaler\n",
    "import pickle\n",
    "from sklearn.metrics import confusion_matrix\n",
    "from sklearn.utils import resample\n",
    "from imblearn.over_sampling import SMOTE\n",
    "from sklearn.metrics import classification_report, balanced_accuracy_score\n",
    "from sklearn import metrics\n",
    "from sklearn.metrics import roc_curve, auc\n",
    "from sklearn.metrics import roc_auc_score\n",
    "from sklearn.model_selection import cross_val_predict\n",
    "from sklearn.model_selection import StratifiedKFold\n",
    "import numpy as np\n",
    "from sklearn.ensemble import RandomForestClassifier\n",
    "from sklearn import datasets\n",
    "from sklearn.model_selection import train_test_split\n",
    "from sklearn.feature_selection import SelectFromModel\n",
    "from sklearn.metrics import accuracy_score\n",
    "from sklearn.feature_selection import RFECV\n",
    "from sklearn.discriminant_analysis import LinearDiscriminantAnalysis\n",
    "from sklearn.discriminant_analysis import LinearDiscriminantAnalysis\n",
    "from sklearn.discriminant_analysis import QuadraticDiscriminantAnalysis\n",
    "import scipy.stats as ss\n",
    "import itertools\n",
    "from sklearn.feature_selection import SelectKBest, chi2\n",
    "from sklearn.metrics import fbeta_score, make_scorer\n",
    "from sklearn.manifold import TSNE\n",
    "from sklearn.multiclass import OneVsRestClassifier\n",
    "from sklearn.model_selection import LeaveOneOut\n",
    "from sklearn.preprocessing import StandardScaler\n",
    "from sklearn.model_selection import KFold\n",
    "import scipy\n",
    "import numpy as np, scipy.stats as st\n",
    "from sklearn.model_selection import RepeatedStratifiedKFold\n",
    "from sklearn.neural_network import MLPClassifier\n",
    "from scipy import interp\n",
    "from collections import Counter\n",
    "from sklearn.model_selection import StratifiedKFold\n",
    "from sklearn.ensemble import BaggingClassifier\n",
    "from imblearn.ensemble import BalancedBaggingClassifier\n",
    "from imblearn.ensemble import BalancedRandomForestClassifier\n",
    "from imblearn.ensemble import EasyEnsembleClassifier\n",
    "from imblearn.ensemble import RUSBoostClassifier\n",
    "from imblearn.under_sampling import ClusterCentroids \n",
    "from sklearn.linear_model import RidgeCV, LassoCV, Ridge, Lasso\n",
    "from imblearn.under_sampling import RepeatedEditedNearestNeighbours\n",
    "from imblearn.under_sampling import EditedNearestNeighbours\n",
    "from imblearn.under_sampling import RepeatedEditedNearestNeighbours\n",
    "from sklearn.linear_model import Perceptron\n",
    "\n",
    "from imblearn.under_sampling import AllKNN\n",
    "from imblearn.under_sampling import CondensedNearestNeighbour\n",
    "from imblearn.under_sampling import TomekLinks\n",
    "from imblearn.under_sampling import InstanceHardnessThreshold\n",
    "from imblearn.under_sampling import NearMiss\n",
    "from imblearn.under_sampling import NeighbourhoodCleaningRule\n",
    "from imblearn.under_sampling import     OneSidedSelection \n",
    "from imblearn.under_sampling import RandomUnderSampler\n",
    "from imblearn.metrics import classification_report_imbalanced\n",
    "from imblearn.under_sampling import ClusterCentroids\n",
    "from imblearn.over_sampling import SMOTE\n",
    "from imblearn.over_sampling import ADASYN\n",
    "from imblearn.over_sampling import RandomOverSampler\n",
    "from imblearn.over_sampling import SVMSMOTE\n",
    "from sklearn.pipeline import Pipeline\n",
    "\n",
    "from imblearn.over_sampling import BorderlineSMOTE\n",
    "from imblearn.over_sampling import SMOTE\n",
    "from imblearn.over_sampling import SVMSMOTE\n",
    "from imblearn.over_sampling import SMOTENC\n",
    "from imblearn.over_sampling import ADASYN\n",
    "from imblearn.over_sampling import KMeansSMOTE\n",
    "from imblearn.over_sampling import RandomOverSampler\n",
    "from imblearn.over_sampling import BorderlineSMOTE\n",
    "from imblearn.over_sampling import SMOTE\n",
    "from imblearn.over_sampling import SVMSMOTE\n",
    "from imblearn.over_sampling import SMOTENC\n",
    "from imblearn.over_sampling import ADASYN\n",
    "from imblearn.over_sampling import KMeansSMOTE\n",
    "from imblearn.over_sampling import RandomOverSampler\n",
    "from imblearn.over_sampling import BorderlineSMOTE\n",
    "import itertools\n",
    "from imblearn.metrics import sensitivity_score\n",
    "from imblearn.metrics import specificity_score\n",
    "from sklearn.metrics import matthews_corrcoef\n",
    "import random\n",
    "import pymrmr\n",
    "from sklearn.feature_selection import SequentialFeatureSelector\n",
    "from sklearn.feature_selection import SelectKBest, chi2\n",
    "from sklearn.linear_model import RidgeCV\n",
    "from sklearn.feature_selection import f_classif\n",
    "from sklearn.feature_selection import *\n",
    "from yellowbrick.model_selection import rfecv\n",
    "from collections import defaultdict\n",
    "\n"
   ]
  },
  {
   "cell_type": "markdown",
   "metadata": {},
   "source": [
    "##### Do not use any sampling technique to balance the dataset - its already balanced (more or less). Repeatedly split the dataset into train and test and select top features using RFECV. Then use the test set to tune hyperparameters - find the best classifier and threshold. Then take the best model for the internal validation test set and apply it on 20271 and 20194. Try ensemble models also"
   ]
  },
  {
   "cell_type": "code",
   "execution_count": 2,
   "metadata": {},
   "outputs": [],
   "source": [
    "scorer = make_scorer(matthews_corrcoef)\n",
    "def model_tune_nb(X_samp, y_samp):\n",
    "    nb = GaussianNB()\n",
    "    grid_params = [{'var_smoothing': [1e-11, 1e-10, 1e-9]}]\n",
    "    cv = StratifiedKFold(n_splits=5, shuffle=True, random_state=42)\n",
    "    clf = GridSearchCV(estimator=nb, param_grid=grid_params, scoring=scorer, cv=cv, \n",
    "                               refit=True, return_train_score=True, n_jobs=100)\n",
    "    clf.fit(X_samp,y_samp)\n",
    "    print(\"Tuning Done\")\n",
    "    best_model = clf.best_estimator_\n",
    "    best_model.fit(X_samp, y_samp)\n",
    "    return best_model,clf.best_score_\n",
    "\n",
    "def model_tune_lda(X_samp, y_samp):\n",
    "    lda = QuadraticDiscriminantAnalysis()\n",
    "    #grid_params = [{'solver' : ['svd', 'lsqr', 'eigen']}]\n",
    "    grid_params = [{'reg_param': [0.1, 0.2, 0.3, 0.4, 0.5]}]\n",
    "    cv = StratifiedKFold(n_splits=5, shuffle=True, random_state=42)\n",
    "    clf = GridSearchCV(estimator=lda, param_grid=grid_params, scoring=scorer, cv=cv, \n",
    "                               refit=True, return_train_score=True, n_jobs=100)\n",
    "    clf.fit(X_samp,y_samp)\n",
    "    print(\"Tuning Done\")\n",
    "    best_model = clf.best_estimator_\n",
    "    best_model.fit(X_samp, y_samp)\n",
    "    return best_model,clf.best_score_\n",
    "\n",
    "def model_tune_svm(X_samp, y_samp):\n",
    "    svm = SVC(random_state=42, probability=True, class_weight=\"balanced\")\n",
    "    grid_params= [\n",
    "                  {'C': [0.001, 0.01, 0.1, 1, 10, 100, 1000], 'kernel': ['linear']},\n",
    "                  {'C': [0.001, 0.01, 0.1, 1, 10, 100, 1000], 'gamma': [0.001, 0.0001], 'kernel': ['rbf']},\n",
    "                 ]\n",
    "    cv = StratifiedKFold(n_splits=5, shuffle=True, random_state=42)\n",
    "    clf = GridSearchCV(estimator=svm, param_grid=grid_params, scoring=scorer, cv=cv, \n",
    "                               refit=True, return_train_score=True, n_jobs=100)\n",
    "    clf.fit(X_samp,y_samp)\n",
    "    print(\"Tuning Done\")\n",
    "    best_model = clf.best_estimator_\n",
    "    best_model.fit(X_samp, y_samp)\n",
    "    return best_model,clf.best_score_\n",
    "\n",
    "def model_tune_knn(X_samp, y_samp):\n",
    "    knn=KNeighborsClassifier()\n",
    "    grid_params = { 'n_neighbors' : [5,7,9,11,13,15],\n",
    "               'weights' : ['uniform','distance'],\n",
    "               'metric' : ['minkowski','euclidean','manhattan']}\n",
    "    \n",
    "    cv = StratifiedKFold(n_splits=5, shuffle=True, random_state=42)\n",
    "    clf = GridSearchCV(estimator=knn, param_grid=grid_params, scoring=scorer, cv=cv, \n",
    "                               refit=True, return_train_score=True, n_jobs=100)\n",
    "    clf.fit(X_samp,y_samp)\n",
    "    print(\"Tuning Done\")\n",
    "    best_model = clf.best_estimator_\n",
    "    best_model.fit(X_samp, y_samp)\n",
    "    return best_model,clf.best_score_\n",
    "\n",
    "def model_tune_logreg(X_samp, y_samp):\n",
    "    logreg = LogisticRegression(class_weight=\"balanced\", random_state=42)\n",
    "    cv = StratifiedKFold(n_splits=5, shuffle=True, random_state=42)\n",
    "    grid={\"C\":np.logspace(-3,3,7), \"penalty\":[\"l1\",\"l2\"]}# l1 lasso l2 ridge\n",
    "    clf = GridSearchCV(estimator=logreg, param_grid=grid, scoring=scorer, cv=cv, \n",
    "                               refit=True, return_train_score=True, n_jobs=100)\n",
    "    clf.fit(X_samp,y_samp)\n",
    "    print(\"Tuning done\")\n",
    "    best_model = clf.best_estimator_\n",
    "    best_model.fit(X_samp,y_samp)\n",
    "    return best_model,clf.best_score_\n",
    "\n",
    "def model_tune_brf(X_samp, y_samp):\n",
    "    brf=BalancedRandomForestClassifier(random_state=42, class_weight=\"balanced\")\n",
    "    cv = StratifiedKFold(n_splits=5, shuffle=True, random_state=42)\n",
    "    grid_params= { \n",
    "        'n_estimators':[10,20,21,30,50,100,200,500],\n",
    "        'max_depth':[2,4,6,8,10],\n",
    "                   'max_features': ['sqrt', 'log2'],\n",
    "        'max_depth' : [2,3,5,7,9,11,13,15,17,19,21],\n",
    "        'min_samples_leaf': [1,3,5],\n",
    "        'min_samples_split': [2, 5,10,12],\n",
    "    }\n",
    "    clf = GridSearchCV(estimator=brf, param_grid=grid_params, scoring=scorer, cv=cv, \n",
    "                               refit=True, return_train_score=True, n_jobs=100)\n",
    "    \n",
    "    clf.fit(X_samp,y_samp)\n",
    "    print(\"Tuning Done\")\n",
    "    best_model = clf.best_estimator_\n",
    "    print(clf.best_params_)\n",
    "    best_model.fit(X_samp, y_samp)\n",
    "    return best_model,clf.best_score_\n",
    "\n",
    "\n",
    "def model_tune_ee(X_samp, y_samp):\n",
    "    ee=EasyEnsembleClassifier(random_state=42)\n",
    "    grid_params= { \n",
    "        'n_estimators':[10,20,21,30,50,100,200,500],\n",
    "        }\n",
    "    cv = StratifiedKFold(n_splits=5, shuffle=True, random_state=42)\n",
    "    clf = GridSearchCV(estimator=ee, param_grid=grid_params, scoring=scorer, cv=cv, \n",
    "                               refit=True, return_train_score=True, n_jobs=100)\n",
    "    clf.fit(X_samp,y_samp)\n",
    "    print(\"Tuning Done\")\n",
    "    best_model = clf.best_estimator_\n",
    "    best_model.fit(X_samp, y_samp)\n",
    "    return best_model,clf.best_score_\n",
    "\n",
    "\n",
    "def model_tune_bagging(X_samp, y_samp):\n",
    "    ee=BalancedBaggingClassifier(random_state=42)\n",
    "    grid_params= { \n",
    "        'n_estimators':[10,20,21,30,50,100,200,500],'max_samples' : [0.05, 0.1, 0.2, 0.5],\n",
    "        }\n",
    "    cv = StratifiedKFold(n_splits=5, shuffle=True, random_state=42)\n",
    "    clf = GridSearchCV(estimator=ee, param_grid=grid_params, scoring=scorer, cv=cv, \n",
    "                               refit=True, return_train_score=True, n_jobs=100)\n",
    "    clf.fit(X_samp,y_samp)\n",
    "    print(\"Tuning Done\")\n",
    "    best_model = clf.best_estimator_\n",
    "    best_model.fit(X_samp, y_samp)\n",
    "    return best_model,clf.best_score_\n",
    "\n",
    "def model_tune_dt(X_samp, y_samp):\n",
    "    dt=DecisionTreeClassifier(random_state=42, class_weight=\"balanced\")\n",
    "    grid_params = {'max_depth':[2,4,6,8,10,12],\n",
    "                   'min_samples_split' :np.linspace(0.1, 1.0, 10, endpoint=True),\n",
    "                   'min_samples_leaf' : np.linspace(0.1, 0.5, 5, endpoint=True),\n",
    "                   'max_features' :[None, 'sqrt', 'log2'],\n",
    "                   'criterion': [\"gini\", \"entropy\"]}\n",
    "    cv = StratifiedKFold(n_splits=5, shuffle=True, random_state=42)\n",
    "    clf = GridSearchCV(estimator=dt, param_grid=grid_params, scoring=scorer, cv=cv, \n",
    "                               refit=True, return_train_score=True, n_jobs=100)\n",
    "    clf.fit(X_samp,y_samp)\n",
    "    print(\"Tuning Done\")\n",
    "    best_model = clf.best_estimator_\n",
    "    best_model.fit(X_samp, y_samp)\n",
    "    return best_model,clf.best_score_\n",
    "\n",
    "def model_tune_rf(X_samp, y_samp):\n",
    "    rf=RandomForestClassifier(random_state=42, class_weight=\"balanced\")\n",
    "    grid_params= { \n",
    "        'n_estimators':[10,20,21,30,50,100,200,500],\n",
    "        'max_depth':[2,4,6,8,10],\n",
    "                   'max_features': ['sqrt', 'log2'],\n",
    "        'max_depth' : [2,3,5,7,9,11,13,15,17,19,21],\n",
    "        'min_samples_leaf': [1,3,5],\n",
    "        'min_samples_split': [2, 5,10,12],\n",
    "    }\n",
    "    cv = StratifiedKFold(n_splits=5, shuffle=True, random_state=42)\n",
    "    clf = GridSearchCV(estimator=rf, param_grid=grid_params, scoring=scorer, cv=cv, \n",
    "                               refit=True, return_train_score=True, n_jobs=100)\n",
    "    clf.fit(X_samp,y_samp)\n",
    "    print(\"Tuning Done\")\n",
    "    best_model = clf.best_estimator_\n",
    "    best_model.fit(X_samp, y_samp)\n",
    "    return best_model,clf.best_score_\n",
    "\n",
    "def model_tune_et(X_samp, y_samp):\n",
    "    rf=ExtraTreesClassifier(random_state=42, class_weight=\"balanced\")\n",
    "    grid_params= { \n",
    "        'n_estimators':[5,10,20,21,30,50,100,200,500],\n",
    "        'max_depth':[2,4,6,8,10],\n",
    "                   'max_features': ['sqrt', 'log2'],\n",
    "        'max_depth' : [2,3,5,7,9,11,13,15,17,19,21],\n",
    "        'min_samples_leaf': [1,3,5],\n",
    "        'min_samples_split': [2, 5,10,12],\n",
    "    }\n",
    "    cv = StratifiedKFold(n_splits=5, shuffle=True, random_state=42)\n",
    "    clf = GridSearchCV(estimator=rf, param_grid=grid_params, scoring=scorer, cv=cv, \n",
    "                               refit=True, return_train_score=True, n_jobs=100)\n",
    "    clf.fit(X_samp,y_samp)\n",
    "    print(\"Tuning Done\")\n",
    "    best_model = clf.best_estimator_\n",
    "    best_model.fit(X_samp, y_samp)\n",
    "    return best_model,clf.best_score_\n",
    "\n",
    "def model_tune_ada(X_samp, y_samp):\n",
    "    rf=AdaBoostClassifier(random_state=42)\n",
    "    grid_params= {\n",
    "        'n_estimators':[5,10,20,21,30,50,100,200,500],\n",
    "        'learning_rate':[0.1,0.3,0.5,1,3,5,7,9],\n",
    "        'algorithm':['SAMME', 'SAMME.R']\n",
    "    }\n",
    "    cv = StratifiedKFold(n_splits=5, shuffle=True, random_state=42)\n",
    "    clf = GridSearchCV(estimator=rf, param_grid=grid_params, scoring=scorer, cv=cv, \n",
    "                               refit=True, return_train_score=True, n_jobs=100)\n",
    "    clf.fit(X_samp,y_samp)\n",
    "    print(\"Tuning Done\")\n",
    "    best_model = clf.best_estimator_\n",
    "    best_model.fit(X_samp, y_samp)\n",
    "    return best_model, clf.best_score_\n",
    "\n",
    "def convert_to_labels(pos_probs, threshold):\n",
    "    return (pos_probs >= threshold).astype('int')"
   ]
  },
  {
   "cell_type": "code",
   "execution_count": 3,
   "metadata": {},
   "outputs": [
    {
     "name": "stdout",
     "output_type": "stream",
     "text": [
      "(170, 61)\n"
     ]
    }
   ],
   "source": [
    "train_data = pd.read_table('/home/shayantan/TNBC-single-cell/TNBC-archive/GSE25066/GSE25066_processed.txt')\n",
    "train_labs = train_data['Labels'].astype('category').cat.codes\n",
    "train_data = train_data.drop(\"Labels\",axis=1)\n",
    "top_feats = pd.read_table(\"/home/shayantan/TNBC-single-cell/TNBC-archive/Top_features/top_feats_TILs_pooled_sig_list.txt\")\n",
    "train_data_feats = train_data[top_feats['Genes']]\n",
    "print(train_data_feats.shape)"
   ]
  },
  {
   "cell_type": "code",
   "execution_count": 4,
   "metadata": {},
   "outputs": [],
   "source": [
    "from random import Random\n",
    "\n",
    "def rfecv_ranked_list_generator(classifier_name, X, y, num_splits,num_repeats):\n",
    "    rskf=RepeatedStratifiedKFold(n_splits=num_splits,n_repeats=num_repeats,random_state=42); my_dict = {}; num_feats =[]\n",
    "    i=0; cols =[];auc=[];sensitivity=[];specificity=[];m=[];accuracy=[];cols=[]\n",
    "    #X=train_data_feats; y=train_labs; \n",
    "    min_features_to_select = 1  # Minimum number of features to consider\n",
    "\n",
    "    if classifier_name == \"RF\":\n",
    "        clf = RandomForestClassifier(random_state=42)\n",
    "    elif classifier_name == \"Logit\":\n",
    "        clf = LogisticRegression(random_state=42)\n",
    "    elif classifier_name == \"SVM\":\n",
    "        clf = SVC(kernel=\"linear\", random_state=42)\n",
    "\n",
    "    for train_index,test_index in rskf.split(X,y):\n",
    "        i=i+1\n",
    "        print(i,end=\"\")\n",
    "        X_train,X_test=X.iloc[train_index],X.iloc[test_index]\n",
    "        y_train,y_test=y.iloc[train_index],y.iloc[test_index]\n",
    "        cv = StratifiedKFold(5); \n",
    "        rfecv = RFECV(\n",
    "        estimator=clf,\n",
    "        step=1,\n",
    "        cv=cv,\n",
    "        scoring=make_scorer(matthews_corrcoef),min_features_to_select=min_features_to_select,\n",
    "        n_jobs=-1,\n",
    "    )\n",
    "        rfecv.fit(X_train, y_train)\n",
    "\n",
    "        my_dict[f'list_{i}'] = X_train.columns[rfecv.support_]\n",
    "        num_feats.append(rfecv.n_features_)\n",
    "\n",
    "\n",
    "    element_counts = Counter()\n",
    "\n",
    "    # Iterate through each list in the dictionary and update the element counts\n",
    "    for lst in my_dict.values():\n",
    "        element_counts.update(lst)\n",
    "\n",
    "    # Sort the elements based on their counts in descending order\n",
    "    ranked_list = sorted(element_counts.items(), key=lambda x: x[1], reverse=True)\n",
    "\n",
    "    # Print the ranked list\n",
    "    runs = num_splits * num_repeats\n",
    "    print(\"\\nRanked list of element counts:\")\n",
    "    for element, count in ranked_list:\n",
    "        print(f\"{element}: {count/runs}\")\n",
    "\n",
    "    n_scores = len(rfecv.cv_results_[\"mean_test_score\"])\n",
    "    plt.figure()\n",
    "    plt.xlabel(\"Number of features selected\")\n",
    "    plt.ylabel(\"Mean test mcc\")\n",
    "    plt.errorbar(\n",
    "    range(min_features_to_select, n_scores + min_features_to_select),\n",
    "    rfecv.cv_results_[\"mean_test_score\"],\n",
    "    yerr=rfecv.cv_results_[\"std_test_score\"],)\n",
    "    plt.title(\"Recursive Feature Elimination\")\n",
    "    plt.show()\n",
    "\n",
    "    return ranked_list"
   ]
  },
  {
   "cell_type": "code",
   "execution_count": null,
   "metadata": {},
   "outputs": [],
   "source": [
    "ranked_list_rf = rfecv_ranked_list_generator(\"RF\",train_data_feats, train_labs, 5, 100)\n",
    "ranked_list_logreg = rfecv_ranked_list_generator(\"Logit\",train_data_feats, train_labs, 5, 100)\n",
    "ranked_list_svm = rfecv_ranked_list_generator(\"SVM\",train_data_feats, train_labs, 5, 100)"
   ]
  },
  {
   "cell_type": "code",
   "execution_count": null,
   "metadata": {},
   "outputs": [],
   "source": [
    "from collections import Counter\n",
    "\n",
    "def ranked_element_counts(dictionary):\n",
    "    # Initialize a Counter to store element counts\n",
    "    element_counts = Counter()\n",
    "\n",
    "    # Iterate through each list in the dictionary and update the element counts\n",
    "    for lst in dictionary.values():\n",
    "        element_counts.update(lst)\n",
    "\n",
    "    # Sort the elements based on their counts in descending order\n",
    "    ranked_list = sorted(element_counts.items(), key=lambda x: x[1], reverse=True)\n",
    "\n",
    "    return ranked_list\n",
    "\n",
    "ranked_list = ranked_element_counts(my_dict)\n",
    "\n",
    "# Print the ranked list\n",
    "print(\"Ranked list of element counts:\")\n",
    "for element, count in ranked_list:\n",
    "    print(f\"{element}: {count/200}\")"
   ]
  },
  {
   "cell_type": "code",
   "execution_count": 457,
   "metadata": {},
   "outputs": [],
   "source": [
    "from os import name\n",
    "#ranked_list_rf = pd.read_table('ranked_list_rf.txt')\n",
    "ranked_list_logreg_1 = [item[0] for item in ranked_list_lr]\n",
    "ranked_list_svm_1 = [item[0] for item in ranked_list_svm]\n",
    "\n"
   ]
  },
  {
   "cell_type": "code",
   "execution_count": 449,
   "metadata": {},
   "outputs": [],
   "source": [
    "from collections import defaultdict\n",
    "\n",
    "def combine_rankings(list_of_lists):\n",
    "    # Initialize dictionary to store total points for each gene\n",
    "    points = defaultdict(int)\n",
    "    num_genes = len(list_of_lists[0])\n",
    "\n",
    "    # Assign points based on rank in each list using Borda Count\n",
    "    for ranked_list in list_of_lists:\n",
    "        for rank, gene in enumerate(ranked_list, 1):\n",
    "            points[gene] += num_genes - rank\n",
    "\n",
    "    # Sort genes based on total points\n",
    "    combined_ranking = sorted(points.items(), key=lambda x: x[1], reverse=True)\n",
    "    return combined_ranking"
   ]
  },
  {
   "cell_type": "code",
   "execution_count": null,
   "metadata": {},
   "outputs": [],
   "source": [
    "ranked_list_rf_1 = [item[0] for item in ranked_list_rf]\n",
    "ranked_list_logreg_1 = [item[0] for item in ranked_list_logreg]\n",
    "ranked_list_svm_1 = [item[0] for item in ranked_list_svm]\n",
    "rankings = [ranked_list_rf_1, ranked_list_logreg_1, ranked_list_svm_1]\n",
    "final_ranking = combine_rankings(rankings)"
   ]
  },
  {
   "cell_type": "code",
   "execution_count": 402,
   "metadata": {},
   "outputs": [
    {
     "data": {
      "text/plain": [
       "['S100B',\n",
       " 'NOL7',\n",
       " 'ILF2',\n",
       " 'HAT1',\n",
       " 'FBXO16',\n",
       " 'LYPLA1',\n",
       " 'TMEM14B',\n",
       " 'PDCL3',\n",
       " 'S100P',\n",
       " 'DKK3',\n",
       " 'PTPRC',\n",
       " 'GREM1',\n",
       " 'PTH2R',\n",
       " 'CSN3',\n",
       " 'SAA1',\n",
       " 'NOP10',\n",
       " 'TUBB6',\n",
       " 'PRNP',\n",
       " 'SEC13',\n",
       " 'NME2',\n",
       " 'ACTA2',\n",
       " 'NDP',\n",
       " 'DNAJC12',\n",
       " 'GPNMB',\n",
       " 'NPY1R',\n",
       " 'HLA-DPA1',\n",
       " 'BTG3',\n",
       " 'TFF3',\n",
       " 'SLC35B1',\n",
       " 'H2AFV']"
      ]
     },
     "execution_count": 402,
     "metadata": {},
     "output_type": "execute_result"
    }
   ],
   "source": [
    "meta_rank = [item[0] for item in final_ranking]\n",
    "meta_rank[0:30]\n",
    "\n"
   ]
  },
  {
   "cell_type": "markdown",
   "metadata": {},
   "source": [
    "Since I have found the ranked list if features, I will now tune my hyperparameters on the test set that has been set aside "
   ]
  },
  {
   "cell_type": "markdown",
   "metadata": {},
   "source": [
    "Tuning hyperparameters"
   ]
  },
  {
   "cell_type": "code",
   "execution_count": 7,
   "metadata": {},
   "outputs": [],
   "source": [
    "top_feats_after_rfecv = ['S100B', 'NOL7', 'ILF2', 'HAT1', 'FBXO16', 'LYPLA1', 'TMEM14B', 'PDCL3', 'S100P', 'DKK3', 'PTPRC', 'GREM1', 'PTH2R', 'CSN3', 'SAA1', 'NOP10', 'TUBB6', 'PRNP', 'SEC13', 'NME2', 'ACTA2', 'NDP', 'DNAJC12', 'GPNMB', 'NPY1R', 'HLA-DPA1', 'BTG3', 'TFF3', 'SLC35B1', 'H2AFV']"
   ]
  },
  {
   "cell_type": "code",
   "execution_count": null,
   "metadata": {},
   "outputs": [],
   "source": [
    "auroc=[];  df= pd.DataFrame(); mcc_scorer = make_scorer(matthews_corrcoef);\n",
    "sampling_names = [\"RUS\", \"REDN\", \"CC\", \"IHT\", \"NearMiss\", \"EDN\", \"Tomek\", \"Allknn\",\"CondensedNN\", \"OSS\", \"SMOTE\", \"ROS\", \"ADASYN\", \"KmeansSmote\", \"BorderlineSmote\", \"SVMSmote\"]\n",
    "#sampling_names = [\"SMOTE\"]\n",
    "#sampling_techniuqes=[SMOTE(random_state=42)]\n",
    "sampling_techniuqes = [RandomUnderSampler(random_state=42), RepeatedEditedNearestNeighbours(), ClusterCentroids(random_state=42), InstanceHardnessThreshold(random_state=42), NearMiss(), EditedNearestNeighbours(), TomekLinks(), AllKNN(), CondensedNearestNeighbour(random_state=42), OneSidedSelection(random_state=42), SMOTE(random_state=42), RandomOverSampler(random_state=42), ADASYN(random_state=42), KMeansSMOTE(random_state=42),BorderlineSMOTE(random_state=42), SVMSMOTE(random_state=42)]\n",
    "classifier_names = [\"BRF\", \"EE\", \"Bagging\", \"RF\", \"ADA\", \"ET\",\"LOGREG\",\"DT\", \"LDA\", \"KNN\", \"NB\", \"SVM\"]; \n",
    "model =[]\n",
    "#classifier_names = ['RF']\n",
    "model_index = 0\n",
    "#feats = list(range(20,28)); \n",
    "feats = [14,15,16,17,18,19,20]; auroc=[]\n",
    "\n",
    "for n in range(0,len(feats)): \n",
    "    print(\"For \",feats[n],\" genes: \") \n",
    "    #subsetiing n+1 genes and sampling technique -> REDN \n",
    "    X_train_sel = train_data_feats[top_feats_after_rfecv[0:feats[n]]]\n",
    "    print(X_train_sel.shape)\n",
    "    scaler = [MinMaxScaler()]\n",
    "    scaler_names = [\"minmax\"]\n",
    "             \n",
    "    for s in range(0, len(scaler)):\n",
    "        print(\"Scaling scheme:\", scaler_names[s])\n",
    "        for samp in range(0,len(sampling_techniuqes)):\n",
    "            print(\"Scaling: \", scaler_names[s])\n",
    "            X_train_sel = pd.DataFrame(scaler[s].fit_transform(X_train_sel),columns = X_train_sel.columns)\n",
    "            #X_samp = X_train_sel; y_samp = train_labs\n",
    "            X_samp, y_samp=sampling_techniuqes[samp].fit_resample(X_train_sel,train_labs)\n",
    "            X_samp = pd.DataFrame(X_samp, columns = X_train_sel.columns)\n",
    "\n",
    "            for c in classifier_names:\n",
    "                name_id = sampling_names[samp]+ \"_\" + scaler_names[s]+ \"_\" + c + \"_\" + str(feats[n])\n",
    "\n",
    "                model_index = 0;  mcc_overall =[]; thres = []; auc_overall = []\n",
    "                if c == \"RF\":\n",
    "                    mod,score = model_tune_rf(X_samp, y_samp)\n",
    "                elif c == \"LOGREG\":\n",
    "                    mod,score = model_tune_logreg(X_samp, y_samp)\n",
    "                elif c == \"DT\":\n",
    "                    mod,score = model_tune_dt(X_samp, y_samp)\n",
    "                elif c == \"ET\":\n",
    "                    mod,score = model_tune_et(X_samp, y_samp)\n",
    "                elif c == \"ADA\":\n",
    "                    mod,score = model_tune_ada(X_samp, y_samp)\n",
    "                elif c == \"LDA\":\n",
    "                    mod,score = model_tune_lda(X_samp, y_samp)\n",
    "                elif c == \"KNN\":\n",
    "                    mod,score = model_tune_knn(X_samp, y_samp)\n",
    "                elif c == \"NB\":\n",
    "                    mod,score = model_tune_nb(X_samp, y_samp)\n",
    "                elif c == \"SVM\":\n",
    "                    mod,score = model_tune_svm(X_samp,y_samp)\n",
    "                elif c == \"BRF\":\n",
    "                    mod,score = model_tune_brf(X_samp,y_samp)\n",
    "                elif c == \"EE\":\n",
    "                    mod,score = model_tune_ee(X_samp, y_samp)\n",
    "                elif c == \"Bagging\":\n",
    "                    mod,score = model_tune_bagging(X_samp, y_samp)\n",
    "                \n",
    "\n",
    "                l=[score, c, feats[n], sampling_names[samp]]\n",
    "                row=pd.Series(l,['mcc_score','classifier','num_feats',\"sampling_names\"])\n",
    "                df=df.append([row],ignore_index=True)\n",
    "                print(df)\n",
    "                model.append(mod)\n",
    "                model_index+=1"
   ]
  },
  {
   "cell_type": "code",
   "execution_count": 7,
   "metadata": {},
   "outputs": [
    {
     "data": {
      "text/html": [
       "<div>\n",
       "<style scoped>\n",
       "    .dataframe tbody tr th:only-of-type {\n",
       "        vertical-align: middle;\n",
       "    }\n",
       "\n",
       "    .dataframe tbody tr th {\n",
       "        vertical-align: top;\n",
       "    }\n",
       "\n",
       "    .dataframe thead th {\n",
       "        text-align: right;\n",
       "    }\n",
       "</style>\n",
       "<table border=\"1\" class=\"dataframe\">\n",
       "  <thead>\n",
       "    <tr style=\"text-align: right;\">\n",
       "      <th></th>\n",
       "      <th>Model_index</th>\n",
       "      <th>mcc_score</th>\n",
       "      <th>classifier</th>\n",
       "      <th>num_feats</th>\n",
       "      <th>sampling_names</th>\n",
       "    </tr>\n",
       "  </thead>\n",
       "  <tbody>\n",
       "    <tr>\n",
       "      <th>0</th>\n",
       "      <td>616</td>\n",
       "      <td>0.855828</td>\n",
       "      <td>ADA</td>\n",
       "      <td>17</td>\n",
       "      <td>IHT</td>\n",
       "    </tr>\n",
       "    <tr>\n",
       "      <th>1</th>\n",
       "      <td>808</td>\n",
       "      <td>0.855813</td>\n",
       "      <td>ADA</td>\n",
       "      <td>18</td>\n",
       "      <td>IHT</td>\n",
       "    </tr>\n",
       "    <tr>\n",
       "      <th>2</th>\n",
       "      <td>431</td>\n",
       "      <td>0.853170</td>\n",
       "      <td>SVM</td>\n",
       "      <td>16</td>\n",
       "      <td>IHT</td>\n",
       "    </tr>\n",
       "    <tr>\n",
       "      <th>3</th>\n",
       "      <td>473</td>\n",
       "      <td>0.850131</td>\n",
       "      <td>ET</td>\n",
       "      <td>16</td>\n",
       "      <td>Allknn</td>\n",
       "    </tr>\n",
       "    <tr>\n",
       "      <th>4</th>\n",
       "      <td>713</td>\n",
       "      <td>0.844225</td>\n",
       "      <td>ET</td>\n",
       "      <td>17</td>\n",
       "      <td>ROS</td>\n",
       "    </tr>\n",
       "    <tr>\n",
       "      <th>5</th>\n",
       "      <td>425</td>\n",
       "      <td>0.839603</td>\n",
       "      <td>ET</td>\n",
       "      <td>16</td>\n",
       "      <td>IHT</td>\n",
       "    </tr>\n",
       "    <tr>\n",
       "      <th>6</th>\n",
       "      <td>893</td>\n",
       "      <td>0.839275</td>\n",
       "      <td>ET</td>\n",
       "      <td>18</td>\n",
       "      <td>SMOTE</td>\n",
       "    </tr>\n",
       "    <tr>\n",
       "      <th>7</th>\n",
       "      <td>617</td>\n",
       "      <td>0.838844</td>\n",
       "      <td>ET</td>\n",
       "      <td>17</td>\n",
       "      <td>IHT</td>\n",
       "    </tr>\n",
       "    <tr>\n",
       "      <th>8</th>\n",
       "      <td>476</td>\n",
       "      <td>0.837515</td>\n",
       "      <td>LDA</td>\n",
       "      <td>16</td>\n",
       "      <td>Allknn</td>\n",
       "    </tr>\n",
       "    <tr>\n",
       "      <th>9</th>\n",
       "      <td>613</td>\n",
       "      <td>0.836369</td>\n",
       "      <td>EE</td>\n",
       "      <td>17</td>\n",
       "      <td>IHT</td>\n",
       "    </tr>\n",
       "  </tbody>\n",
       "</table>\n",
       "</div>"
      ],
      "text/plain": [
       "   Model_index  mcc_score classifier  num_feats sampling_names\n",
       "0          616   0.855828        ADA         17            IHT\n",
       "1          808   0.855813        ADA         18            IHT\n",
       "2          431   0.853170        SVM         16            IHT\n",
       "3          473   0.850131         ET         16         Allknn\n",
       "4          713   0.844225         ET         17            ROS\n",
       "5          425   0.839603         ET         16            IHT\n",
       "6          893   0.839275         ET         18          SMOTE\n",
       "7          617   0.838844         ET         17            IHT\n",
       "8          476   0.837515        LDA         16         Allknn\n",
       "9          613   0.836369         EE         17            IHT"
      ]
     },
     "execution_count": 7,
     "metadata": {},
     "output_type": "execute_result"
    }
   ],
   "source": [
    "df_internal_validation = pd.read_csv('/home/shayantan/TNBC-single-cell/Reproducibility_best_results/consolidated_results_internal_validation.csv')\n",
    "df_internal_validation.columns = ['Model_index','mcc_score','classifier','num_feats','sampling_names']\n",
    "df_internal_validation[0:10]"
   ]
  },
  {
   "cell_type": "code",
   "execution_count": 420,
   "metadata": {},
   "outputs": [],
   "source": [
    "import pickle\n",
    "with open('/home/shayantan/TNBC-single-cell/Reproducibility_best_results/model.pkl', 'wb') as file:\n",
    "    pickle.dump(model, file)"
   ]
  },
  {
   "cell_type": "code",
   "execution_count": 5,
   "metadata": {},
   "outputs": [],
   "source": [
    "from pandas import read_pickle\n",
    "import pickle\n",
    "\n",
    "\n",
    "model_gene_only = read_pickle('/home/shayantan/TNBC-single-cell/Reproducibility_best_results/model.pkl')"
   ]
  },
  {
   "cell_type": "markdown",
   "metadata": {},
   "source": [
    "Now I have found out the best classifiers from the training data using cross-validation. Time to test it using GSE Ids- 20271,20194,31519,106977"
   ]
  },
  {
   "cell_type": "code",
   "execution_count": 8,
   "metadata": {},
   "outputs": [],
   "source": [
    "feats = [20]; sc = MinMaxScaler()\n",
    "X_train_sel = train_data_feats[top_feats_after_rfecv[0:feats[0]]]\n",
    "X_train_sel = pd.DataFrame(sc.fit_transform(X_train_sel),columns = X_train_sel.columns)\n",
    "\n",
    "val_data = pd.read_table('/home/shayantan/TNBC-single-cell/TNBC-archive/batch_corrected_validation_20271_20194_31519_dataset_combined.txt')\n",
    "val_labs_20271_20194_31519 =val_data['Labels'].astype('category').cat.codes\n",
    "val_data=val_data.drop('Labels', axis=1)\n",
    "val_data_feats_20271_20194_31519 = val_data[top_feats_after_rfecv[0:feats[0]]]\n",
    "val_data_feats_20271_20194_31519 = pd.DataFrame(sc.transform(val_data_feats_20271_20194_31519),columns = val_data_feats_20271_20194_31519.columns)\n",
    "\n",
    "\n",
    "val_data = pd.read_table('/home/shayantan/TNBC-single-cell/TNBC-archive/GSE106977/GSE106977_processed.txt')\n",
    "val_labs_106977 =val_data['Labels'].astype('category').cat.codes\n",
    "val_data=val_data.drop('Labels', axis=1)\n",
    "val_data_feats_106977 = val_data[top_feats_after_rfecv[0:feats[0]]]\n",
    "val_data_feats_106977 = pd.DataFrame(sc.transform(val_data_feats_106977),columns = val_data_feats_106977.columns)\n",
    "\n",
    "class_names = ['ExtraTreesClassifier']\n",
    "test_data = [val_data_feats_20271_20194_31519, val_data_feats_106977]\n",
    "test_labs = [val_labs_20271_20194_31519, val_labs_106977]\n",
    "test_names = ['20271_20194_31519','106977']\n",
    "\n",
    "classifiers = [model_gene_only[713]]"
   ]
  },
  {
   "cell_type": "code",
   "execution_count": 11,
   "metadata": {},
   "outputs": [
    {
     "name": "stdout",
     "output_type": "stream",
     "text": [
      "Threshold:  0.53\n",
      "              precision    recall  f1-score   support\n",
      "\n",
      "           0       0.80      0.53      0.63        74\n",
      "           1       0.76      0.92      0.83       120\n",
      "\n",
      "    accuracy                           0.77       194\n",
      "   macro avg       0.78      0.72      0.73       194\n",
      "weighted avg       0.77      0.77      0.76       194\n",
      "\n",
      "Name:  ['ExtraTreesClassifier'] Sensitivity:  0.917 , Specificity:  0.527 AUPRC:  0.747 , AUROC:  0.782 , MCC:  0.496  , F1-weighted:  0.755\n",
      "Threshold:  0.531\n",
      "              precision    recall  f1-score   support\n",
      "\n",
      "           0       0.51      0.61      0.55        46\n",
      "           1       0.72      0.63      0.67        73\n",
      "\n",
      "    accuracy                           0.62       119\n",
      "   macro avg       0.61      0.62      0.61       119\n",
      "weighted avg       0.64      0.62      0.63       119\n",
      "\n",
      "Name:  ['ExtraTreesClassifier'] Sensitivity:  0.63 , Specificity:  0.609 AUPRC:  0.68 , AUROC:  0.666 , MCC:  0.233  , F1-weighted:  0.626\n"
     ]
    }
   ],
   "source": [
    "df_results = pd.DataFrame();preds=[];probs=[]\n",
    "for i in range(0,2):\n",
    "    for j in range(0,1):\n",
    "        y_test_predictions, y_probs, sen, spe, auprc, acc, auc, mcc, f1, thresh = print_metrics_with_threshold_tuning(class_names, test_data[i], test_labs[i], top_feats_after_rfecv[0:17], classifiers[j])\n",
    "        name = class_names[j] + \"_\" + test_names[i] +\"_\"+ str(np.round(thresh,3))\n",
    "        preds.append(y_test_predictions);probs.append(y_probs)\n",
    "        l=[sen, spe, auprc, acc, auc, mcc, f1, name]\n",
    "        row=pd.Series(l,['Sensitivity', 'Specificity','AUPRC','Balanced_accuracy','AUROC', 'MCC', 'Weighted-f1', 'name'])\n",
    "        df_results=df_results.append([row],ignore_index=True)\n",
    "        "
   ]
  },
  {
   "cell_type": "code",
   "execution_count": 14,
   "metadata": {},
   "outputs": [
    {
     "data": {
      "image/png": "[encoded data removed]",
      "text/plain": [
       "<Figure size 720x720 with 1 Axes>"
      ]
     },
     "metadata": {},
     "output_type": "display_data"
    }
   ],
   "source": [
    "plt.figure(figsize=(10, 10)) \n",
    "draw_roc(val_labs_20271_20194_31519, probs[0], index = 0) \n",
    "draw_roc(val_labs_106977, probs[1], index = 1) \n",
    "\n",
    "plt.plot([0,1], [0,1], color='orange', linestyle='--', linewidth = 3)\n",
    "\n",
    "plt.xticks(np.arange(0.0, 1.1, step=0.2), fontsize = 20)\n",
    "plt.xlabel(\"False Positive Rate\", fontsize = 20)\n",
    "\n",
    "plt.yticks(np.arange(0.0, 1.1, step=0.2), fontsize = 20)\n",
    "plt.ylabel(\"True Positive Rate\", fontsize = 20)\n",
    "\n",
    "    #plt.title('ROC Curve', fontweight='bold', fontsize=15)\n",
    "plt.legend(prop={'size':15, 'weight':'bold'}, loc='lower right')\n",
    "plt.savefig('/home/shayantan/TNBC-single-cell/Reproducibility_best_results/ROC_plot_external_validation.pdf')\n",
    "plt.show()\n"
   ]
  },
  {
   "cell_type": "code",
   "execution_count": null,
   "metadata": {},
   "outputs": [],
   "source": [
    "plt.figure(figsize=(10, 10)) \n",
    "draw_prc(val_labs_20271_20194_31519, probs[0], index = 0) \n",
    "draw_prc(val_labs_106977, probs[1], index = 1) \n",
    "\n",
    "plt.xticks(np.arange(0.0, 1, step=0.3), fontsize = 20)\n",
    "plt.xlabel(\"Recall\", fontsize = 20)\n",
    "\n",
    "plt.yticks(np.arange(0.0, 1, step=0.3), fontsize = 20)\n",
    "plt.ylabel(\"Precision\", fontsize = 20)\n",
    "\n",
    "    #plt.title('ROC Curve', fontweight='bold', fontsize=15)\n",
    "plt.legend(prop={'size':15, 'weight':'bold'}, loc='lower right')\n",
    "plt.savefig('/home/shayantan/TNBC-single-cell/Reproducibility_best_results/PRC_plot_external_validation.pdf')\n",
    "plt.show()\n"
   ]
  },
  {
   "cell_type": "code",
   "execution_count": 13,
   "metadata": {},
   "outputs": [],
   "source": [
    "def draw_roc(y_test, y_probs, index):\n",
    "    names = ['GSE20271-GSE20194-GSE31519','GSE106977']\n",
    "\n",
    "    fp_rate, tp_rate, thresh = roc_curve(y_test, y_probs)\n",
    "    auc = roc_auc_score(y_test, y_probs)\n",
    "    n_bootstraps = 1000\n",
    "    rng_seed = 42  # control reproducibility\n",
    "    bootstrapped_scores = []\n",
    "    rng = np.random.RandomState(rng_seed)\n",
    "\n",
    "    for k in range(n_bootstraps):\n",
    "        # bootstrap by sampling with replacement on the prediction indices\n",
    "        indices = rng.randint(0, len(y_probs), len(y_probs))\n",
    "        if len(np.unique(y_test[indices])) < 2:\n",
    "            continue\n",
    "        score = roc_auc_score(y_test[indices], y_probs[indices])\n",
    "        bootstrapped_scores.append(score)\n",
    "                #print(\"Bootstrap #{} ROC area: {:0.3f}\".format(k + 1, score))\n",
    "    sorted_scores = np.array(bootstrapped_scores)\n",
    "    sorted_scores.sort()\n",
    "    confidence_lower = sorted_scores[int(0.05 * len(sorted_scores))]\n",
    "    confidence_upper = sorted_scores[int(0.95 * len(sorted_scores))]\n",
    "    plt.plot(fp_rate, tp_rate, label=names[index]+\" [AUROC=\" +str(round(auc,3)) + \n",
    "                     \" (\"+ str(round(confidence_lower,3))+\" - \"+str(round(confidence_upper,3))+\")]\", linewidth = 4)"
   ]
  },
  {
   "cell_type": "code",
   "execution_count": 112,
   "metadata": {},
   "outputs": [],
   "source": [
    "from sklearn.metrics import average_precision_score, precision_recall_curve\n",
    "\n",
    "\n",
    "def draw_prc(y_test, y_probs, index):\n",
    "    names = ['GSE20271-GSE20194-GSE31519','GSE106977']\n",
    "\n",
    "    precision, recall, thresh = precision_recall_curve(y_test, y_probs)\n",
    "    auprc = metrics.auc(recall, precision)\n",
    "    n_bootstraps = 1000\n",
    "    rng_seed = 42  # control reproducibility\n",
    "    bootstrapped_scores = []\n",
    "    rng = np.random.RandomState(rng_seed)\n",
    "\n",
    "    for k in range(n_bootstraps):\n",
    "        # bootstrap by sampling with replacement on the prediction indices\n",
    "        indices = rng.randint(0, len(y_probs), len(y_probs))\n",
    "        if len(np.unique(y_test[indices])) < 2:\n",
    "            continue\n",
    "        score = average_precision_score(y_test[indices], y_probs[indices])\n",
    "        bootstrapped_scores.append(score)\n",
    "                #print(\"Bootstrap #{} ROC area: {:0.3f}\".format(k + 1, score))\n",
    "    sorted_scores = np.array(bootstrapped_scores)\n",
    "    sorted_scores.sort()\n",
    "    confidence_lower = sorted_scores[int(0.05 * len(sorted_scores))]\n",
    "    confidence_upper = sorted_scores[int(0.95 * len(sorted_scores))]\n",
    "    plt.plot(recall, precision, label=names[index]+\" [AUPRC: \" +str(round(auprc,3)) + \" (\"+ str(round(confidence_lower,3))+\" - \"+str(round(confidence_upper,3))+\")]\", linewidth = 4)"
   ]
  },
  {
   "cell_type": "markdown",
   "metadata": {},
   "source": [
    "Integrated model"
   ]
  },
  {
   "cell_type": "code",
   "execution_count": 492,
   "metadata": {},
   "outputs": [],
   "source": [
    "from sklearn.preprocessing import LabelEncoder"
   ]
  },
  {
   "cell_type": "code",
   "execution_count": 16,
   "metadata": {},
   "outputs": [
    {
     "name": "stdout",
     "output_type": "stream",
     "text": [
      "Index(['S100B', 'NOL7', 'ILF2', 'HAT1', 'FBXO16', 'LYPLA1', 'TMEM14B', 'PDCL3',\n",
      "       'S100P', 'DKK3', 'PTPRC', 'GREM1', 'PTH2R', 'CSN3', 'SAA1', 'NOP10',\n",
      "       'TUBB6', 'B-cells', 'CD4+ T-cells', 'CD4+ Tcm', 'CD4+ Tem',\n",
      "       'CD4+ memory T-cells', 'CD4+ naive T-cells', 'CD8+ T-cells', 'CD8+ Tcm',\n",
      "       'CD8+ Tem', 'CD8+ naive T-cells', 'Memory B-cells', 'naive B-cells',\n",
      "       'pro B-cells', 'Tregs', 'ImmuneScore', 'StromaScore',\n",
      "       'MicroenvironmentScore'],\n",
      "      dtype='object')\n"
     ]
    }
   ],
   "source": [
    "#TNBC_subtype + purity + enrichment scores - training data\n",
    "val_data_feats_25066_subtype_xcell_estimate = pd.read_table(\"/home/shayantan/TNBC-single-cell/Reproducibility_best_results/TNBC_subtype_Cell_enrichment/GSE25066_processed_tnbc_type_xcell_estimate.txt\")\n",
    "cols = top_feats_after_rfecv[0:17] + [\"B-cells\",\"CD4+ T-cells\",\"CD4+ Tcm\", \"CD4+ Tem\",\"CD4+ memory T-cells\", \"CD4+ naive T-cells\",\"CD8+ T-cells\",\"CD8+ Tcm\",\"CD8+ Tem\",\"CD8+ naive T-cells\",\"Memory B-cells\",\"naive B-cells\", \"pro B-cells\",\"Tregs\", \"ImmuneScore\",\"StromaScore\", \"MicroenvironmentScore\"]\n",
    "numeric_cols = top_feats_after_rfecv[0:17] + [\"B-cells\",\"CD4+ T-cells\",\"CD4+ Tcm\", \"CD4+ Tem\",\"CD4+ memory T-cells\", \"CD4+ naive T-cells\",\"CD8+ T-cells\",\"CD8+ Tcm\",\"CD8+ Tem\",\"CD8+ naive T-cells\",\"Memory B-cells\",\"naive B-cells\", \"pro B-cells\",\"Tregs\", \"ImmuneScore\",\"StromaScore\", \"MicroenvironmentScore\"]\n",
    "val_data_feats_25066_subtype_xcell_estimate = val_data_feats_25066_subtype_xcell_estimate[cols]\n",
    "#le = LabelEncoder()\n",
    "#le.fit(val_data_feats_25066_subtype_xcell_estimate['TNBC_type'])\n",
    "#val_data_feats_25066_subtype_xcell_estimate['TNBC_type'] = le.transform(val_data_feats_25066_subtype_xcell_estimate['TNBC_type'])\n",
    "#val_data_feats_25066_subtype_xcell_estimate_encoded = pd.get_dummies(val_data_feats_25066_subtype_xcell_estimate, columns=['TNBC_type'])\n",
    "#val_data_feats_25066_subtype_xcell_estimate_encoded = (val_data_feats_25066_subtype_xcell_estimate, columns=['TNBC_type'])\n",
    "sc = MinMaxScaler(); val_data_feats_25066_subtype_xcell_estimate_encoded = val_data_feats_25066_subtype_xcell_estimate\n",
    "val_data_feats_25066_subtype_xcell_estimate_encoded[numeric_cols] = sc.fit_transform(val_data_feats_25066_subtype_xcell_estimate_encoded[numeric_cols])\n",
    "val_data_feats_25066_subtype_xcell_estimate_encoded = pd.DataFrame(val_data_feats_25066_subtype_xcell_estimate_encoded, columns = val_data_feats_25066_subtype_xcell_estimate_encoded.columns)\n",
    "print(val_data_feats_25066_subtype_xcell_estimate_encoded.columns)\n"
   ]
  },
  {
   "cell_type": "code",
   "execution_count": 17,
   "metadata": {},
   "outputs": [
    {
     "name": "stdout",
     "output_type": "stream",
     "text": [
      "Index(['S100B', 'NOL7', 'ILF2', 'HAT1', 'FBXO16', 'LYPLA1', 'TMEM14B', 'PDCL3',\n",
      "       'S100P', 'DKK3', 'PTPRC', 'GREM1', 'PTH2R', 'CSN3', 'SAA1', 'NOP10',\n",
      "       'TUBB6', 'B-cells', 'CD4+ T-cells', 'CD4+ Tcm', 'CD4+ Tem',\n",
      "       'CD4+ memory T-cells', 'CD4+ naive T-cells', 'CD8+ T-cells', 'CD8+ Tcm',\n",
      "       'CD8+ Tem', 'CD8+ naive T-cells', 'Memory B-cells', 'naive B-cells',\n",
      "       'pro B-cells', 'Tregs', 'ImmuneScore', 'StromaScore',\n",
      "       'MicroenvironmentScore'],\n",
      "      dtype='object')\n"
     ]
    }
   ],
   "source": [
    "#TNBC_subtype + purity + enrichment scores - training data\n",
    "val_data_feats_combined_subtype_xcell_estimate = pd.read_table(\"/home/shayantan/TNBC-single-cell/Reproducibility_best_results/TNBC_subtype_Cell_enrichment/GSE20271_20194_31519_processed_tnbc_type_xcell_estimate.txt\")\n",
    "cols = top_feats_after_rfecv[0:17] + [\"B-cells\",\"CD4+ T-cells\",\"CD4+ Tcm\", \"CD4+ Tem\",\"CD4+ memory T-cells\", \"CD4+ naive T-cells\",\"CD8+ T-cells\",\"CD8+ Tcm\",\"CD8+ Tem\",\"CD8+ naive T-cells\",\"Memory B-cells\",\"naive B-cells\", \"pro B-cells\",\"Tregs\", \"ImmuneScore\",\"StromaScore\", \"MicroenvironmentScore\"]\n",
    "numeric_cols = top_feats_after_rfecv[0:17] + [\"B-cells\",\"CD4+ T-cells\",\"CD4+ Tcm\", \"CD4+ Tem\",\"CD4+ memory T-cells\", \"CD4+ naive T-cells\",\"CD8+ T-cells\",\"CD8+ Tcm\",\"CD8+ Tem\",\"CD8+ naive T-cells\",\"Memory B-cells\",\"naive B-cells\", \"pro B-cells\",\"Tregs\", \"ImmuneScore\",\"StromaScore\", \"MicroenvironmentScore\"]\n",
    "val_data_feats_combined_subtype_xcell_estimate = val_data_feats_combined_subtype_xcell_estimate[cols]\n",
    "#le = LabelEncoder()\n",
    "#le.fit(val_data_feats_25066_subtype_xcell_estimate['TNBC_type'])\n",
    "#val_data_feats_25066_subtype_xcell_estimate['TNBC_type'] = le.transform(val_data_feats_25066_subtype_xcell_estimate['TNBC_type'])\n",
    "#val_data_feats_25066_subtype_xcell_estimate_encoded = pd.get_dummies(val_data_feats_25066_subtype_xcell_estimate, columns=['TNBC_type'])\n",
    "#val_data_feats_25066_subtype_xcell_estimate_encoded = (val_data_feats_25066_subtype_xcell_estimate, columns=['TNBC_type'])\n",
    "sc = MinMaxScaler(); val_data_feats_combined_subtype_xcell_estimate_encoded = val_data_feats_combined_subtype_xcell_estimate\n",
    "val_data_feats_combined_subtype_xcell_estimate_encoded[numeric_cols] = sc.fit_transform(val_data_feats_combined_subtype_xcell_estimate_encoded[numeric_cols])\n",
    "val_data_feats_combined_subtype_xcell_estimate_encoded = pd.DataFrame(val_data_feats_combined_subtype_xcell_estimate_encoded, columns = val_data_feats_combined_subtype_xcell_estimate_encoded.columns)\n",
    "print(val_data_feats_combined_subtype_xcell_estimate_encoded.columns)\n"
   ]
  },
  {
   "cell_type": "code",
   "execution_count": 18,
   "metadata": {},
   "outputs": [
    {
     "name": "stdout",
     "output_type": "stream",
     "text": [
      "Index(['S100B', 'NOL7', 'ILF2', 'HAT1', 'FBXO16', 'LYPLA1', 'TMEM14B', 'PDCL3',\n",
      "       'S100P', 'DKK3', 'PTPRC', 'GREM1', 'PTH2R', 'CSN3', 'SAA1', 'NOP10',\n",
      "       'TUBB6', 'B-cells', 'CD4+ T-cells', 'CD4+ Tcm', 'CD4+ Tem',\n",
      "       'CD4+ memory T-cells', 'CD4+ naive T-cells', 'CD8+ T-cells', 'CD8+ Tcm',\n",
      "       'CD8+ Tem', 'CD8+ naive T-cells', 'Memory B-cells', 'naive B-cells',\n",
      "       'pro B-cells', 'Tregs', 'ImmuneScore', 'StromaScore',\n",
      "       'MicroenvironmentScore'],\n",
      "      dtype='object')\n"
     ]
    }
   ],
   "source": [
    "#TNBC_subtype + purity + enrichment scores - training data\n",
    "val_data_feats_106977_subtype_xcell_estimate = pd.read_table(\"/home/shayantan/TNBC-single-cell/Reproducibility_best_results/TNBC_subtype_Cell_enrichment/GSE106977_processed_data_tnbc_type_xcell_estimate.txt\")\n",
    "cols = top_feats_after_rfecv[0:17] + [\"B-cells\",\"CD4+ T-cells\",\"CD4+ Tcm\", \"CD4+ Tem\",\"CD4+ memory T-cells\", \"CD4+ naive T-cells\",\"CD8+ T-cells\",\"CD8+ Tcm\",\"CD8+ Tem\",\"CD8+ naive T-cells\",\"Memory B-cells\",\"naive B-cells\", \"pro B-cells\",\"Tregs\", \"ImmuneScore\",\"StromaScore\", \"MicroenvironmentScore\"]\n",
    "numeric_cols = top_feats_after_rfecv[0:17] + [\"B-cells\",\"CD4+ T-cells\",\"CD4+ Tcm\", \"CD4+ Tem\",\"CD4+ memory T-cells\", \"CD4+ naive T-cells\",\"CD8+ T-cells\",\"CD8+ Tcm\",\"CD8+ Tem\",\"CD8+ naive T-cells\",\"Memory B-cells\",\"naive B-cells\", \"pro B-cells\",\"Tregs\", \"ImmuneScore\",\"StromaScore\", \"MicroenvironmentScore\"]\n",
    "val_data_feats_106977_subtype_xcell_estimate = val_data_feats_106977_subtype_xcell_estimate[cols]\n",
    "#le = LabelEncoder()\n",
    "#le.fit(val_data_feats_25066_subtype_xcell_estimate['TNBC_type'])\n",
    "#val_data_feats_25066_subtype_xcell_estimate['TNBC_type'] = le.transform(val_data_feats_25066_subtype_xcell_estimate['TNBC_type'])\n",
    "#val_data_feats_25066_subtype_xcell_estimate_encoded = pd.get_dummies(val_data_feats_25066_subtype_xcell_estimate, columns=['TNBC_type'])\n",
    "#val_data_feats_25066_subtype_xcell_estimate_encoded = (val_data_feats_25066_subtype_xcell_estimate, columns=['TNBC_type'])\n",
    "sc = MinMaxScaler(); val_data_feats_106977_subtype_xcell_estimate_encoded = val_data_feats_106977_subtype_xcell_estimate\n",
    "val_data_feats_106977_subtype_xcell_estimate_encoded[numeric_cols] = sc.fit_transform(val_data_feats_106977_subtype_xcell_estimate_encoded[numeric_cols])\n",
    "val_data_feats_106977_subtype_xcell_estimate_encoded = pd.DataFrame(val_data_feats_106977_subtype_xcell_estimate_encoded, columns = val_data_feats_combined_subtype_xcell_estimate_encoded.columns)\n",
    "print(val_data_feats_106977_subtype_xcell_estimate_encoded.columns)\n"
   ]
  },
  {
   "cell_type": "code",
   "execution_count": 19,
   "metadata": {},
   "outputs": [
    {
     "data": {
      "text/plain": [
       "Index(['S100B', 'NOL7', 'ILF2', 'HAT1', 'FBXO16', 'LYPLA1', 'TMEM14B', 'PDCL3',\n",
       "       'S100P', 'DKK3', 'PTPRC', 'GREM1', 'PTH2R', 'CSN3', 'SAA1', 'NOP10',\n",
       "       'TUBB6', 'B-cells', 'CD4+ T-cells', 'CD4+ Tcm', 'CD4+ Tem',\n",
       "       'CD4+ memory T-cells', 'CD4+ naive T-cells', 'CD8+ T-cells', 'CD8+ Tcm',\n",
       "       'CD8+ Tem', 'CD8+ naive T-cells', 'Memory B-cells', 'naive B-cells',\n",
       "       'pro B-cells', 'Tregs', 'ImmuneScore', 'StromaScore',\n",
       "       'MicroenvironmentScore'],\n",
       "      dtype='object')"
      ]
     },
     "execution_count": 19,
     "metadata": {},
     "output_type": "execute_result"
    }
   ],
   "source": [
    "val_data_feats_106977_subtype_xcell_estimate_encoded.columns"
   ]
  },
  {
   "cell_type": "code",
   "execution_count": null,
   "metadata": {},
   "outputs": [],
   "source": [
    "auroc=[];  \n",
    "df= pd.DataFrame(); \n",
    "mcc_scorer = make_scorer(matthews_corrcoef);\n",
    "cols = top_feats_after_rfecv[0:17] + ['B-cells', 'CD4+ T-cells', 'CD4+ Tcm', 'CD4+ Tem',\n",
    "       'CD4+ memory T-cells', 'CD4+ naive T-cells', 'CD8+ T-cells', 'CD8+ Tcm',\n",
    "       'CD8+ Tem', 'CD8+ naive T-cells', 'Memory B-cells', 'naive B-cells',\n",
    "       'pro B-cells', 'Tregs', 'ImmuneScore', 'StromaScore',\n",
    "       'MicroenvironmentScore']\n",
    "sampling_names = [\"RUS\", \"REDN\", \"CC\", \"IHT\", \"NearMiss\", \"EDN\", \"Tomek\", \"Allknn\",\"CondensedNN\", \"OSS\", \"SMOTE\", \"ROS\", \"ADASYN\", \"KmeansSmote\", \"BorderlineSmote\", \"SVMSmote\"]\n",
    "#sampling_names = [\"BorderlineSmote\", \"SVMSmote\"]\n",
    "sampling_techniuqes = [RepeatedEditedNearestNeighbours(), ClusterCentroids(random_state=42), InstanceHardnessThreshold(random_state=42), NearMiss(), EditedNearestNeighbours(), TomekLinks(), AllKNN(), CondensedNearestNeighbour(random_state=42), OneSidedSelection(random_state=42), SMOTE(random_state=42), RandomOverSampler(random_state=42), ADASYN(random_state=42), KMeansSMOTE(random_state=42),BorderlineSMOTE(random_state=42), SVMSMOTE(random_state=42)]\n",
    "#sampling_techniuqes = [BorderlineSMOTE(random_state=42), SVMSMOTE(random_state=42)]\n",
    "classifier_names = [\"BRF\", \"EE\", \"Bagging\", \"RF\", \"ADA\", \"ET\",\"LOGREG\",\"DT\", \"LDA\", \"KNN\", \"NB\", \"SVM\"]; \n",
    "model =[]\n",
    "#classifier_names = ['ET']\n",
    "model_index = 0\n",
    "#feats = list(range(20,28)); \n",
    "feats = [len(cols)]; auroc=[]\n",
    "\n",
    "for n in range(0,len(feats)): \n",
    "    print(\"For \",feats[n],\" genes: \") \n",
    "    #subsetiing n+1 genes and sampling technique -> REDN \n",
    "    X_train_sel = val_data_feats_25066_subtype_xcell_estimate_encoded[cols]\n",
    "    print(X_train_sel.shape)\n",
    "    scaler = [MinMaxScaler()]\n",
    "    scaler_names = [\"minmax\"]\n",
    "             \n",
    "    for s in range(0, len(scaler)):\n",
    "        print(\"Scaling scheme:\", scaler_names[s])\n",
    "        for samp in range(0,len(sampling_techniuqes)):\n",
    "            print(\"Scaling: \", scaler_names[s])\n",
    "            X_train_sel = pd.DataFrame(scaler[s].fit_transform(X_train_sel),columns = X_train_sel.columns)\n",
    "            #X_samp = X_train_sel; y_samp = train_labs\n",
    "            X_samp, y_samp=sampling_techniuqes[samp].fit_resample(X_train_sel,train_labs)\n",
    "            X_samp = pd.DataFrame(X_samp, columns = X_train_sel.columns)\n",
    "\n",
    "            for c in classifier_names:\n",
    "                name_id = sampling_names[samp]+ \"_\" + scaler_names[s]+ \"_\" + c + \"_\" + str(feats[n])\n",
    "\n",
    "                model_index = 0;  mcc_overall =[]; thres = []; auc_overall = []\n",
    "                if c == \"RF\":\n",
    "                    mod,score = model_tune_rf(X_samp, y_samp)\n",
    "                elif c == \"LOGREG\":\n",
    "                    mod,score = model_tune_logreg(X_samp, y_samp)\n",
    "                elif c == \"DT\":\n",
    "                    mod,score = model_tune_dt(X_samp, y_samp)\n",
    "                elif c == \"ET\":\n",
    "                    mod,score = model_tune_et(X_samp, y_samp)\n",
    "                elif c == \"ADA\":\n",
    "                    mod,score = model_tune_ada(X_samp, y_samp)\n",
    "                elif c == \"LDA\":\n",
    "                    mod,score = model_tune_lda(X_samp, y_samp)\n",
    "                elif c == \"KNN\":\n",
    "                    mod,score = model_tune_knn(X_samp, y_samp)\n",
    "                elif c == \"NB\":\n",
    "                    mod,score = model_tune_nb(X_samp, y_samp)\n",
    "                elif c == \"SVM\":\n",
    "                    mod,score = model_tune_svm(X_samp,y_samp)\n",
    "                elif c == \"BRF\":\n",
    "                    mod,score = model_tune_brf(X_samp,y_samp)\n",
    "                elif c == \"EE\":\n",
    "                    mod,score = model_tune_ee(X_samp, y_samp)\n",
    "                elif c == \"Bagging\":\n",
    "                    mod,score = model_tune_bagging(X_samp, y_samp)\n",
    "\n",
    "                # l=[score, c, feats[n]]\n",
    "                # row=pd.Series(l,['mcc_score','classifier','num_feats'])\n",
    "                # df=df.append([row],ignore_index=True)\n",
    "                # print(df)\n",
    "                print(\"GSE-combined\")\n",
    "                X_test=val_data_feats_combined_subtype_xcell_estimate_encoded[X_samp.columns]\n",
    "                X_test = pd.DataFrame(scaler[s].transform(X_test),columns = X_test.columns)\n",
    "                y_t, y_p, sen_c, spe_c, auprc_c, acc_c, auc_c, mcc_c, f1_c, t_c = print_metrics_with_threshold_tuning(\"GSE-combined\", X_test, val_labs_20271_20194_31519, X_samp.columns, mod)\n",
    "                l=[sen_c, spe_c, auprc_c, acc_c, auc_c, mcc_c, f1_c, \"GSE-combined\" + \"_\"+ str(t_c) + \"_\"+ name_id]\n",
    "                row=pd.Series(l,['sen','spe','auprc','acc','auc', 'mcc', 'f1', 'ID'])\n",
    "                df=df.append([row],ignore_index=True)\n",
    "                print(\"GSE106977\")\n",
    "                X_test=val_data_feats_106977_subtype_xcell_estimate_encoded[X_samp.columns]\n",
    "                X_test = pd.DataFrame(scaler[s].transform(X_test),columns = X_test.columns)\n",
    "                y_t,y_p,sen_a, spe_a, auprc_a, acc_a, auc_a, mcc_a, f1_a, t_a = print_metrics_with_threshold_tuning(\"GSE106977\", X_test, val_labs_106977, X_samp.columns, mod)\n",
    "                l=[sen_a, spe_a, auprc_a, acc_a, auc_a, mcc_a, f1_a, \"GSE106977\" + \"_\"+ str(t_a)+\"_\"+name_id]\n",
    "                row=pd.Series(l,['sen','spe','auprc','acc','auc', 'mcc', 'f1','ID'])\n",
    "                df=df.append([row],ignore_index=True)\n",
    "                df.to_csv(\"/home/shayantan/TNBC-single-cell/Reproducibility_best_results/17_gene_xcell.csv\", header=True)\n",
    "\n",
    "                print(df)"
   ]
  },
  {
   "cell_type": "code",
   "execution_count": null,
   "metadata": {},
   "outputs": [],
   "source": [
    "print_metrics_with_threshold_tuning(\"ll\",val_data_feats_20271_20194_31519,val_labs_20271_20194_31519,top_feats_after_rfecv[0:17],model_gene_only[713])"
   ]
  },
  {
   "cell_type": "markdown",
   "metadata": {},
   "source": [
    "Permutation test for significance using the two independent test sets"
   ]
  },
  {
   "cell_type": "code",
   "execution_count": null,
   "metadata": {},
   "outputs": [],
   "source": []
  },
  {
   "cell_type": "code",
   "execution_count": 74,
   "metadata": {},
   "outputs": [
    {
     "name": "stdout",
     "output_type": "stream",
     "text": [
      "0\n"
     ]
    },
    {
     "name": "stderr",
     "output_type": "stream",
     "text": [
      "/tmp/ipykernel_1347127/1401251787.py:17: UserWarning: you are shuffling a 'Series' object which is not a subclass of 'Sequence'; `shuffle` is not guaranteed to behave correctly. E.g., non-numpy array/tensor objects with view semantics may contain duplicates after shuffling.\n",
      "  np.random.shuffle(y_samp)\n"
     ]
    },
    {
     "name": "stdout",
     "output_type": "stream",
     "text": [
      "Tuning Done\n",
      "Threshold:  0.851\n",
      "Name:  permute Sensitivity:  1.0 , Specificity:  0.0 AUPRC:  0.613 , AUROC:  0.623 , MCC:  0.0  , F1-weighted:  0.466\n",
      "1\n"
     ]
    },
    {
     "name": "stderr",
     "output_type": "stream",
     "text": [
      "/tmp/ipykernel_1347127/1401251787.py:17: UserWarning: you are shuffling a 'Series' object which is not a subclass of 'Sequence'; `shuffle` is not guaranteed to behave correctly. E.g., non-numpy array/tensor objects with view semantics may contain duplicates after shuffling.\n",
      "  np.random.shuffle(y_samp)\n"
     ]
    },
    {
     "name": "stdout",
     "output_type": "stream",
     "text": [
      "Tuning Done\n",
      "Threshold:  0.592\n",
      "Name:  permute Sensitivity:  0.904 , Specificity:  0.109 AUPRC:  0.616 , AUROC:  0.605 , MCC:  0.021  , F1-weighted:  0.517\n",
      "2\n"
     ]
    },
    {
     "name": "stderr",
     "output_type": "stream",
     "text": [
      "/tmp/ipykernel_1347127/1401251787.py:17: UserWarning: you are shuffling a 'Series' object which is not a subclass of 'Sequence'; `shuffle` is not guaranteed to behave correctly. E.g., non-numpy array/tensor objects with view semantics may contain duplicates after shuffling.\n",
      "  np.random.shuffle(y_samp)\n"
     ]
    },
    {
     "name": "stdout",
     "output_type": "stream",
     "text": [
      "Tuning Done\n",
      "Threshold:  0.446\n",
      "Name:  permute Sensitivity:  0.315 , Specificity:  0.783 AUPRC:  0.64 , AUROC:  0.555 , MCC:  0.106  , F1-weighted:  0.477\n",
      "3\n"
     ]
    },
    {
     "name": "stderr",
     "output_type": "stream",
     "text": [
      "/tmp/ipykernel_1347127/1401251787.py:17: UserWarning: you are shuffling a 'Series' object which is not a subclass of 'Sequence'; `shuffle` is not guaranteed to behave correctly. E.g., non-numpy array/tensor objects with view semantics may contain duplicates after shuffling.\n",
      "  np.random.shuffle(y_samp)\n"
     ]
    },
    {
     "name": "stdout",
     "output_type": "stream",
     "text": [
      "Tuning Done\n",
      "Threshold:  0.7000000000000001\n",
      "Name:  permute Sensitivity:  0.658 , Specificity:  0.196 AUPRC:  0.581 , AUROC:  0.403 , MCC:  -0.158  , F1-weighted:  0.46\n",
      "4\n"
     ]
    },
    {
     "name": "stderr",
     "output_type": "stream",
     "text": [
      "/tmp/ipykernel_1347127/1401251787.py:17: UserWarning: you are shuffling a 'Series' object which is not a subclass of 'Sequence'; `shuffle` is not guaranteed to behave correctly. E.g., non-numpy array/tensor objects with view semantics may contain duplicates after shuffling.\n",
      "  np.random.shuffle(y_samp)\n"
     ]
    },
    {
     "name": "stdout",
     "output_type": "stream",
     "text": [
      "Tuning Done\n",
      "Threshold:  0.601\n",
      "Name:  permute Sensitivity:  0.192 , Specificity:  0.717 AUPRC:  0.595 , AUROC:  0.455 , MCC:  -0.106  , F1-weighted:  0.357\n",
      "5\n"
     ]
    },
    {
     "name": "stderr",
     "output_type": "stream",
     "text": [
      "/tmp/ipykernel_1347127/1401251787.py:17: UserWarning: you are shuffling a 'Series' object which is not a subclass of 'Sequence'; `shuffle` is not guaranteed to behave correctly. E.g., non-numpy array/tensor objects with view semantics may contain duplicates after shuffling.\n",
      "  np.random.shuffle(y_samp)\n"
     ]
    },
    {
     "name": "stdout",
     "output_type": "stream",
     "text": [
      "Tuning Done\n",
      "Threshold:  0.661\n",
      "Name:  permute Sensitivity:  0.534 , Specificity:  0.435 AUPRC:  0.606 , AUROC:  0.392 , MCC:  -0.03  , F1-weighted:  0.501\n",
      "6\n"
     ]
    },
    {
     "name": "stderr",
     "output_type": "stream",
     "text": [
      "/tmp/ipykernel_1347127/1401251787.py:17: UserWarning: you are shuffling a 'Series' object which is not a subclass of 'Sequence'; `shuffle` is not guaranteed to behave correctly. E.g., non-numpy array/tensor objects with view semantics may contain duplicates after shuffling.\n",
      "  np.random.shuffle(y_samp)\n"
     ]
    },
    {
     "name": "stdout",
     "output_type": "stream",
     "text": [
      "Tuning Done\n",
      "Threshold:  0.298\n",
      "Name:  permute Sensitivity:  0.123 , Specificity:  0.913 AUPRC:  0.623 , AUROC:  0.551 , MCC:  0.057  , F1-weighted:  0.342\n",
      "7\n"
     ]
    },
    {
     "name": "stderr",
     "output_type": "stream",
     "text": [
      "/tmp/ipykernel_1347127/1401251787.py:17: UserWarning: you are shuffling a 'Series' object which is not a subclass of 'Sequence'; `shuffle` is not guaranteed to behave correctly. E.g., non-numpy array/tensor objects with view semantics may contain duplicates after shuffling.\n",
      "  np.random.shuffle(y_samp)\n"
     ]
    },
    {
     "name": "stdout",
     "output_type": "stream",
     "text": [
      "Tuning Done\n",
      "Threshold:  0.442\n",
      "Name:  permute Sensitivity:  0.493 , Specificity:  0.63 AUPRC:  0.646 , AUROC:  0.564 , MCC:  0.121  , F1-weighted:  0.551\n",
      "8\n"
     ]
    },
    {
     "name": "stderr",
     "output_type": "stream",
     "text": [
      "/tmp/ipykernel_1347127/1401251787.py:17: UserWarning: you are shuffling a 'Series' object which is not a subclass of 'Sequence'; `shuffle` is not guaranteed to behave correctly. E.g., non-numpy array/tensor objects with view semantics may contain duplicates after shuffling.\n",
      "  np.random.shuffle(y_samp)\n"
     ]
    },
    {
     "name": "stdout",
     "output_type": "stream",
     "text": [
      "Tuning Done\n",
      "Threshold:  0.634\n",
      "Name:  permute Sensitivity:  0.959 , Specificity:  0.065 AUPRC:  0.619 , AUROC:  0.567 , MCC:  0.054  , F1-weighted:  0.506\n",
      "9\n"
     ]
    },
    {
     "name": "stderr",
     "output_type": "stream",
     "text": [
      "/tmp/ipykernel_1347127/1401251787.py:17: UserWarning: you are shuffling a 'Series' object which is not a subclass of 'Sequence'; `shuffle` is not guaranteed to behave correctly. E.g., non-numpy array/tensor objects with view semantics may contain duplicates after shuffling.\n",
      "  np.random.shuffle(y_samp)\n"
     ]
    },
    {
     "name": "stdout",
     "output_type": "stream",
     "text": [
      "Tuning Done\n",
      "Threshold:  0.454\n",
      "Name:  permute Sensitivity:  0.411 , Specificity:  0.761 AUPRC:  0.662 , AUROC:  0.615 , MCC:  0.176  , F1-weighted:  0.541\n",
      "10\n"
     ]
    },
    {
     "name": "stderr",
     "output_type": "stream",
     "text": [
      "/tmp/ipykernel_1347127/1401251787.py:17: UserWarning: you are shuffling a 'Series' object which is not a subclass of 'Sequence'; `shuffle` is not guaranteed to behave correctly. E.g., non-numpy array/tensor objects with view semantics may contain duplicates after shuffling.\n",
      "  np.random.shuffle(y_samp)\n"
     ]
    },
    {
     "name": "stdout",
     "output_type": "stream",
     "text": [
      "Tuning Done\n",
      "Threshold:  0.417\n",
      "Name:  permute Sensitivity:  0.274 , Specificity:  0.826 AUPRC:  0.641 , AUROC:  0.572 , MCC:  0.115  , F1-weighted:  0.457\n",
      "11\n"
     ]
    },
    {
     "name": "stderr",
     "output_type": "stream",
     "text": [
      "/tmp/ipykernel_1347127/1401251787.py:17: UserWarning: you are shuffling a 'Series' object which is not a subclass of 'Sequence'; `shuffle` is not guaranteed to behave correctly. E.g., non-numpy array/tensor objects with view semantics may contain duplicates after shuffling.\n",
      "  np.random.shuffle(y_samp)\n"
     ]
    },
    {
     "name": "stdout",
     "output_type": "stream",
     "text": [
      "Tuning Done\n",
      "Threshold:  0.528\n",
      "Name:  permute Sensitivity:  0.274 , Specificity:  0.761 AUPRC:  0.622 , AUROC:  0.544 , MCC:  0.039  , F1-weighted:  0.438\n",
      "12\n"
     ]
    },
    {
     "name": "stderr",
     "output_type": "stream",
     "text": [
      "/tmp/ipykernel_1347127/1401251787.py:17: UserWarning: you are shuffling a 'Series' object which is not a subclass of 'Sequence'; `shuffle` is not guaranteed to behave correctly. E.g., non-numpy array/tensor objects with view semantics may contain duplicates after shuffling.\n",
      "  np.random.shuffle(y_samp)\n"
     ]
    },
    {
     "name": "stdout",
     "output_type": "stream",
     "text": [
      "Tuning Done\n",
      "Threshold:  0.736\n",
      "Name:  permute Sensitivity:  0.425 , Specificity:  0.435 AUPRC:  0.584 , AUROC:  0.404 , MCC:  -0.137  , F1-weighted:  0.436\n",
      "13\n"
     ]
    },
    {
     "name": "stderr",
     "output_type": "stream",
     "text": [
      "/tmp/ipykernel_1347127/1401251787.py:17: UserWarning: you are shuffling a 'Series' object which is not a subclass of 'Sequence'; `shuffle` is not guaranteed to behave correctly. E.g., non-numpy array/tensor objects with view semantics may contain duplicates after shuffling.\n",
      "  np.random.shuffle(y_samp)\n"
     ]
    },
    {
     "name": "stdout",
     "output_type": "stream",
     "text": [
      "Tuning Done\n",
      "Threshold:  0.794\n",
      "Name:  permute Sensitivity:  0.753 , Specificity:  0.109 AUPRC:  0.583 , AUROC:  0.366 , MCC:  -0.17  , F1-weighted:  0.455\n",
      "14\n"
     ]
    },
    {
     "name": "stderr",
     "output_type": "stream",
     "text": [
      "/tmp/ipykernel_1347127/1401251787.py:17: UserWarning: you are shuffling a 'Series' object which is not a subclass of 'Sequence'; `shuffle` is not guaranteed to behave correctly. E.g., non-numpy array/tensor objects with view semantics may contain duplicates after shuffling.\n",
      "  np.random.shuffle(y_samp)\n"
     ]
    },
    {
     "name": "stdout",
     "output_type": "stream",
     "text": [
      "Tuning Done\n",
      "Threshold:  0.484\n",
      "Name:  permute Sensitivity:  0.904 , Specificity:  0.087 AUPRC:  0.611 , AUROC:  0.438 , MCC:  -0.015  , F1-weighted:  0.502\n",
      "15\n"
     ]
    },
    {
     "name": "stderr",
     "output_type": "stream",
     "text": [
      "/tmp/ipykernel_1347127/1401251787.py:17: UserWarning: you are shuffling a 'Series' object which is not a subclass of 'Sequence'; `shuffle` is not guaranteed to behave correctly. E.g., non-numpy array/tensor objects with view semantics may contain duplicates after shuffling.\n",
      "  np.random.shuffle(y_samp)\n"
     ]
    },
    {
     "name": "stdout",
     "output_type": "stream",
     "text": [
      "Tuning Done\n",
      "Threshold:  0.47500000000000003\n",
      "Name:  permute Sensitivity:  0.137 , Specificity:  0.935 AUPRC:  0.635 , AUROC:  0.552 , MCC:  0.112  , F1-weighted:  0.361\n",
      "16\n"
     ]
    },
    {
     "name": "stderr",
     "output_type": "stream",
     "text": [
      "/tmp/ipykernel_1347127/1401251787.py:17: UserWarning: you are shuffling a 'Series' object which is not a subclass of 'Sequence'; `shuffle` is not guaranteed to behave correctly. E.g., non-numpy array/tensor objects with view semantics may contain duplicates after shuffling.\n",
      "  np.random.shuffle(y_samp)\n"
     ]
    },
    {
     "name": "stdout",
     "output_type": "stream",
     "text": [
      "Tuning Done\n",
      "Threshold:  0.463\n",
      "Name:  permute Sensitivity:  0.0 , Specificity:  0.891 AUPRC:  0.613 , AUROC:  0.491 , MCC:  -0.264  , F1-weighted:  0.198\n",
      "17\n"
     ]
    },
    {
     "name": "stderr",
     "output_type": "stream",
     "text": [
      "/tmp/ipykernel_1347127/1401251787.py:17: UserWarning: you are shuffling a 'Series' object which is not a subclass of 'Sequence'; `shuffle` is not guaranteed to behave correctly. E.g., non-numpy array/tensor objects with view semantics may contain duplicates after shuffling.\n",
      "  np.random.shuffle(y_samp)\n"
     ]
    },
    {
     "name": "stdout",
     "output_type": "stream",
     "text": [
      "Tuning Done\n",
      "Threshold:  0.0\n",
      "Name:  permute Sensitivity:  0.973 , Specificity:  0.0 AUPRC:  0.607 , AUROC:  0.339 , MCC:  -0.104  , F1-weighted:  0.458\n",
      "18\n"
     ]
    },
    {
     "name": "stderr",
     "output_type": "stream",
     "text": [
      "/tmp/ipykernel_1347127/1401251787.py:17: UserWarning: you are shuffling a 'Series' object which is not a subclass of 'Sequence'; `shuffle` is not guaranteed to behave correctly. E.g., non-numpy array/tensor objects with view semantics may contain duplicates after shuffling.\n",
      "  np.random.shuffle(y_samp)\n"
     ]
    },
    {
     "name": "stdout",
     "output_type": "stream",
     "text": [
      "Tuning Done\n",
      "Threshold:  0.457\n",
      "Name:  permute Sensitivity:  0.849 , Specificity:  0.13 AUPRC:  0.609 , AUROC:  0.44 , MCC:  -0.028  , F1-weighted:  0.508\n",
      "19\n"
     ]
    },
    {
     "name": "stderr",
     "output_type": "stream",
     "text": [
      "/tmp/ipykernel_1347127/1401251787.py:17: UserWarning: you are shuffling a 'Series' object which is not a subclass of 'Sequence'; `shuffle` is not guaranteed to behave correctly. E.g., non-numpy array/tensor objects with view semantics may contain duplicates after shuffling.\n",
      "  np.random.shuffle(y_samp)\n"
     ]
    },
    {
     "name": "stdout",
     "output_type": "stream",
     "text": [
      "Tuning Done\n",
      "Threshold:  0.0\n",
      "Name:  permute Sensitivity:  0.945 , Specificity:  0.022 AUPRC:  0.606 , AUROC:  0.391 , MCC:  -0.08  , F1-weighted:  0.468\n",
      "20\n"
     ]
    },
    {
     "name": "stderr",
     "output_type": "stream",
     "text": [
      "/tmp/ipykernel_1347127/1401251787.py:17: UserWarning: you are shuffling a 'Series' object which is not a subclass of 'Sequence'; `shuffle` is not guaranteed to behave correctly. E.g., non-numpy array/tensor objects with view semantics may contain duplicates after shuffling.\n",
      "  np.random.shuffle(y_samp)\n"
     ]
    },
    {
     "name": "stdout",
     "output_type": "stream",
     "text": [
      "Tuning Done\n",
      "Threshold:  0.47900000000000004\n",
      "Name:  permute Sensitivity:  0.685 , Specificity:  0.283 AUPRC:  0.606 , AUROC:  0.443 , MCC:  -0.034  , F1-weighted:  0.516\n",
      "21\n"
     ]
    },
    {
     "name": "stderr",
     "output_type": "stream",
     "text": [
      "/tmp/ipykernel_1347127/1401251787.py:17: UserWarning: you are shuffling a 'Series' object which is not a subclass of 'Sequence'; `shuffle` is not guaranteed to behave correctly. E.g., non-numpy array/tensor objects with view semantics may contain duplicates after shuffling.\n",
      "  np.random.shuffle(y_samp)\n"
     ]
    },
    {
     "name": "stdout",
     "output_type": "stream",
     "text": [
      "Tuning Done\n",
      "Threshold:  0.358\n",
      "Name:  permute Sensitivity:  0.014 , Specificity:  1.0 AUPRC:  0.619 , AUROC:  0.51 , MCC:  0.073  , F1-weighted:  0.233\n",
      "22\n"
     ]
    },
    {
     "name": "stderr",
     "output_type": "stream",
     "text": [
      "/tmp/ipykernel_1347127/1401251787.py:17: UserWarning: you are shuffling a 'Series' object which is not a subclass of 'Sequence'; `shuffle` is not guaranteed to behave correctly. E.g., non-numpy array/tensor objects with view semantics may contain duplicates after shuffling.\n",
      "  np.random.shuffle(y_samp)\n"
     ]
    },
    {
     "name": "stdout",
     "output_type": "stream",
     "text": [
      "Tuning Done\n",
      "Threshold:  0.253\n",
      "Name:  permute Sensitivity:  0.123 , Specificity:  0.913 AUPRC:  0.623 , AUROC:  0.624 , MCC:  0.057  , F1-weighted:  0.342\n",
      "23\n"
     ]
    },
    {
     "name": "stderr",
     "output_type": "stream",
     "text": [
      "/tmp/ipykernel_1347127/1401251787.py:17: UserWarning: you are shuffling a 'Series' object which is not a subclass of 'Sequence'; `shuffle` is not guaranteed to behave correctly. E.g., non-numpy array/tensor objects with view semantics may contain duplicates after shuffling.\n",
      "  np.random.shuffle(y_samp)\n"
     ]
    },
    {
     "name": "stdout",
     "output_type": "stream",
     "text": [
      "Tuning Done\n",
      "Threshold:  0.434\n",
      "Name:  permute Sensitivity:  0.425 , Specificity:  0.674 AUPRC:  0.639 , AUROC:  0.596 , MCC:  0.099  , F1-weighted:  0.521\n",
      "24\n"
     ]
    },
    {
     "name": "stderr",
     "output_type": "stream",
     "text": [
      "/tmp/ipykernel_1347127/1401251787.py:17: UserWarning: you are shuffling a 'Series' object which is not a subclass of 'Sequence'; `shuffle` is not guaranteed to behave correctly. E.g., non-numpy array/tensor objects with view semantics may contain duplicates after shuffling.\n",
      "  np.random.shuffle(y_samp)\n"
     ]
    },
    {
     "name": "stdout",
     "output_type": "stream",
     "text": [
      "Tuning Done\n",
      "Threshold:  0.45\n",
      "Name:  permute Sensitivity:  0.0 , Specificity:  1.0 AUPRC:  0.613 , AUROC:  0.455 , MCC:  0.0  , F1-weighted:  0.216\n",
      "25\n"
     ]
    },
    {
     "name": "stderr",
     "output_type": "stream",
     "text": [
      "/tmp/ipykernel_1347127/1401251787.py:17: UserWarning: you are shuffling a 'Series' object which is not a subclass of 'Sequence'; `shuffle` is not guaranteed to behave correctly. E.g., non-numpy array/tensor objects with view semantics may contain duplicates after shuffling.\n",
      "  np.random.shuffle(y_samp)\n"
     ]
    },
    {
     "name": "stdout",
     "output_type": "stream",
     "text": [
      "Tuning Done\n",
      "Threshold:  0.419\n",
      "Name:  permute Sensitivity:  0.027 , Specificity:  0.978 AUPRC:  0.615 , AUROC:  0.588 , MCC:  0.018  , F1-weighted:  0.247\n",
      "26\n"
     ]
    },
    {
     "name": "stderr",
     "output_type": "stream",
     "text": [
      "/tmp/ipykernel_1347127/1401251787.py:17: UserWarning: you are shuffling a 'Series' object which is not a subclass of 'Sequence'; `shuffle` is not guaranteed to behave correctly. E.g., non-numpy array/tensor objects with view semantics may contain duplicates after shuffling.\n",
      "  np.random.shuffle(y_samp)\n"
     ]
    },
    {
     "name": "stdout",
     "output_type": "stream",
     "text": [
      "Tuning Done\n",
      "Threshold:  0.42\n",
      "Name:  permute Sensitivity:  0.0 , Specificity:  0.978 AUPRC:  0.613 , AUROC:  0.425 , MCC:  -0.116  , F1-weighted:  0.212\n",
      "27\n"
     ]
    },
    {
     "name": "stderr",
     "output_type": "stream",
     "text": [
      "/tmp/ipykernel_1347127/1401251787.py:17: UserWarning: you are shuffling a 'Series' object which is not a subclass of 'Sequence'; `shuffle` is not guaranteed to behave correctly. E.g., non-numpy array/tensor objects with view semantics may contain duplicates after shuffling.\n",
      "  np.random.shuffle(y_samp)\n"
     ]
    },
    {
     "name": "stdout",
     "output_type": "stream",
     "text": [
      "Tuning Done\n",
      "Threshold:  0.751\n",
      "Name:  permute Sensitivity:  0.89 , Specificity:  0.109 AUPRC:  0.613 , AUROC:  0.51 , MCC:  -0.001  , F1-weighted:  0.511\n",
      "28\n"
     ]
    },
    {
     "name": "stderr",
     "output_type": "stream",
     "text": [
      "/tmp/ipykernel_1347127/1401251787.py:17: UserWarning: you are shuffling a 'Series' object which is not a subclass of 'Sequence'; `shuffle` is not guaranteed to behave correctly. E.g., non-numpy array/tensor objects with view semantics may contain duplicates after shuffling.\n",
      "  np.random.shuffle(y_samp)\n"
     ]
    },
    {
     "name": "stdout",
     "output_type": "stream",
     "text": [
      "Tuning Done\n",
      "Threshold:  0.506\n",
      "Name:  permute Sensitivity:  0.822 , Specificity:  0.174 AUPRC:  0.612 , AUROC:  0.499 , MCC:  -0.005  , F1-weighted:  0.523\n",
      "29\n"
     ]
    },
    {
     "name": "stderr",
     "output_type": "stream",
     "text": [
      "/tmp/ipykernel_1347127/1401251787.py:17: UserWarning: you are shuffling a 'Series' object which is not a subclass of 'Sequence'; `shuffle` is not guaranteed to behave correctly. E.g., non-numpy array/tensor objects with view semantics may contain duplicates after shuffling.\n",
      "  np.random.shuffle(y_samp)\n"
     ]
    },
    {
     "name": "stdout",
     "output_type": "stream",
     "text": [
      "Tuning Done\n",
      "Threshold:  0.401\n",
      "Name:  permute Sensitivity:  0.411 , Specificity:  0.63 AUPRC:  0.624 , AUROC:  0.558 , MCC:  0.041  , F1-weighted:  0.497\n",
      "30\n"
     ]
    },
    {
     "name": "stderr",
     "output_type": "stream",
     "text": [
      "/tmp/ipykernel_1347127/1401251787.py:17: UserWarning: you are shuffling a 'Series' object which is not a subclass of 'Sequence'; `shuffle` is not guaranteed to behave correctly. E.g., non-numpy array/tensor objects with view semantics may contain duplicates after shuffling.\n",
      "  np.random.shuffle(y_samp)\n"
     ]
    },
    {
     "name": "stdout",
     "output_type": "stream",
     "text": [
      "Tuning Done\n",
      "Threshold:  0.309\n",
      "Name:  permute Sensitivity:  0.0 , Specificity:  1.0 AUPRC:  0.613 , AUROC:  0.483 , MCC:  0.0  , F1-weighted:  0.216\n",
      "31\n"
     ]
    },
    {
     "name": "stderr",
     "output_type": "stream",
     "text": [
      "/tmp/ipykernel_1347127/1401251787.py:17: UserWarning: you are shuffling a 'Series' object which is not a subclass of 'Sequence'; `shuffle` is not guaranteed to behave correctly. E.g., non-numpy array/tensor objects with view semantics may contain duplicates after shuffling.\n",
      "  np.random.shuffle(y_samp)\n"
     ]
    },
    {
     "name": "stdout",
     "output_type": "stream",
     "text": [
      "Tuning Done\n",
      "Threshold:  0.497\n",
      "Name:  permute Sensitivity:  0.795 , Specificity:  0.348 AUPRC:  0.65 , AUROC:  0.554 , MCC:  0.158  , F1-weighted:  0.603\n",
      "32\n"
     ]
    },
    {
     "name": "stderr",
     "output_type": "stream",
     "text": [
      "/tmp/ipykernel_1347127/1401251787.py:17: UserWarning: you are shuffling a 'Series' object which is not a subclass of 'Sequence'; `shuffle` is not guaranteed to behave correctly. E.g., non-numpy array/tensor objects with view semantics may contain duplicates after shuffling.\n",
      "  np.random.shuffle(y_samp)\n"
     ]
    },
    {
     "name": "stdout",
     "output_type": "stream",
     "text": [
      "Tuning Done\n",
      "Threshold:  0.621\n",
      "Name:  permute Sensitivity:  0.534 , Specificity:  0.348 AUPRC:  0.588 , AUROC:  0.453 , MCC:  -0.116  , F1-weighted:  0.466\n",
      "33\n"
     ]
    },
    {
     "name": "stderr",
     "output_type": "stream",
     "text": [
      "/tmp/ipykernel_1347127/1401251787.py:17: UserWarning: you are shuffling a 'Series' object which is not a subclass of 'Sequence'; `shuffle` is not guaranteed to behave correctly. E.g., non-numpy array/tensor objects with view semantics may contain duplicates after shuffling.\n",
      "  np.random.shuffle(y_samp)\n"
     ]
    },
    {
     "name": "stdout",
     "output_type": "stream",
     "text": [
      "Tuning Done\n",
      "Threshold:  0.531\n",
      "Name:  permute Sensitivity:  0.795 , Specificity:  0.37 AUPRC:  0.656 , AUROC:  0.625 , MCC:  0.18  , F1-weighted:  0.613\n",
      "34\n"
     ]
    },
    {
     "name": "stderr",
     "output_type": "stream",
     "text": [
      "/tmp/ipykernel_1347127/1401251787.py:17: UserWarning: you are shuffling a 'Series' object which is not a subclass of 'Sequence'; `shuffle` is not guaranteed to behave correctly. E.g., non-numpy array/tensor objects with view semantics may contain duplicates after shuffling.\n",
      "  np.random.shuffle(y_samp)\n"
     ]
    },
    {
     "name": "stdout",
     "output_type": "stream",
     "text": [
      "Tuning Done\n",
      "Threshold:  0.397\n",
      "Name:  permute Sensitivity:  0.178 , Specificity:  0.739 AUPRC:  0.597 , AUROC:  0.449 , MCC:  -0.099  , F1-weighted:  0.351\n",
      "35\n"
     ]
    },
    {
     "name": "stderr",
     "output_type": "stream",
     "text": [
      "/tmp/ipykernel_1347127/1401251787.py:17: UserWarning: you are shuffling a 'Series' object which is not a subclass of 'Sequence'; `shuffle` is not guaranteed to behave correctly. E.g., non-numpy array/tensor objects with view semantics may contain duplicates after shuffling.\n",
      "  np.random.shuffle(y_samp)\n"
     ]
    },
    {
     "name": "stdout",
     "output_type": "stream",
     "text": [
      "Tuning Done\n",
      "Threshold:  0.41600000000000004\n",
      "Name:  permute Sensitivity:  0.192 , Specificity:  0.826 AUPRC:  0.618 , AUROC:  0.495 , MCC:  0.022  , F1-weighted:  0.386\n",
      "36\n"
     ]
    },
    {
     "name": "stderr",
     "output_type": "stream",
     "text": [
      "/tmp/ipykernel_1347127/1401251787.py:17: UserWarning: you are shuffling a 'Series' object which is not a subclass of 'Sequence'; `shuffle` is not guaranteed to behave correctly. E.g., non-numpy array/tensor objects with view semantics may contain duplicates after shuffling.\n",
      "  np.random.shuffle(y_samp)\n"
     ]
    },
    {
     "name": "stdout",
     "output_type": "stream",
     "text": [
      "Tuning Done\n",
      "Threshold:  0.486\n",
      "Name:  permute Sensitivity:  0.137 , Specificity:  0.891 AUPRC:  0.621 , AUROC:  0.475 , MCC:  0.042  , F1-weighted:  0.351\n",
      "37\n"
     ]
    },
    {
     "name": "stderr",
     "output_type": "stream",
     "text": [
      "/tmp/ipykernel_1347127/1401251787.py:17: UserWarning: you are shuffling a 'Series' object which is not a subclass of 'Sequence'; `shuffle` is not guaranteed to behave correctly. E.g., non-numpy array/tensor objects with view semantics may contain duplicates after shuffling.\n",
      "  np.random.shuffle(y_samp)\n"
     ]
    },
    {
     "name": "stdout",
     "output_type": "stream",
     "text": [
      "Tuning Done\n",
      "Threshold:  0.502\n",
      "Name:  permute Sensitivity:  0.164 , Specificity:  0.913 AUPRC:  0.636 , AUROC:  0.492 , MCC:  0.111  , F1-weighted:  0.383\n",
      "38\n"
     ]
    },
    {
     "name": "stderr",
     "output_type": "stream",
     "text": [
      "/tmp/ipykernel_1347127/1401251787.py:17: UserWarning: you are shuffling a 'Series' object which is not a subclass of 'Sequence'; `shuffle` is not guaranteed to behave correctly. E.g., non-numpy array/tensor objects with view semantics may contain duplicates after shuffling.\n",
      "  np.random.shuffle(y_samp)\n"
     ]
    },
    {
     "name": "stdout",
     "output_type": "stream",
     "text": [
      "Tuning Done\n",
      "Threshold:  0.47500000000000003\n",
      "Name:  permute Sensitivity:  0.288 , Specificity:  0.739 AUPRC:  0.62 , AUROC:  0.527 , MCC:  0.029  , F1-weighted:  0.442\n",
      "39\n"
     ]
    },
    {
     "name": "stderr",
     "output_type": "stream",
     "text": [
      "/tmp/ipykernel_1347127/1401251787.py:17: UserWarning: you are shuffling a 'Series' object which is not a subclass of 'Sequence'; `shuffle` is not guaranteed to behave correctly. E.g., non-numpy array/tensor objects with view semantics may contain duplicates after shuffling.\n",
      "  np.random.shuffle(y_samp)\n"
     ]
    },
    {
     "name": "stdout",
     "output_type": "stream",
     "text": [
      "Tuning Done\n",
      "Threshold:  0.28200000000000003\n",
      "Name:  permute Sensitivity:  0.055 , Specificity:  0.978 AUPRC:  0.624 , AUROC:  0.567 , MCC:  0.08  , F1-weighted:  0.28\n",
      "40\n"
     ]
    },
    {
     "name": "stderr",
     "output_type": "stream",
     "text": [
      "/tmp/ipykernel_1347127/1401251787.py:17: UserWarning: you are shuffling a 'Series' object which is not a subclass of 'Sequence'; `shuffle` is not guaranteed to behave correctly. E.g., non-numpy array/tensor objects with view semantics may contain duplicates after shuffling.\n",
      "  np.random.shuffle(y_samp)\n"
     ]
    },
    {
     "name": "stdout",
     "output_type": "stream",
     "text": [
      "Tuning Done\n",
      "Threshold:  0.65\n",
      "Name:  permute Sensitivity:  0.685 , Specificity:  0.239 AUPRC:  0.596 , AUROC:  0.479 , MCC:  -0.082  , F1-weighted:  0.495\n",
      "41\n"
     ]
    },
    {
     "name": "stderr",
     "output_type": "stream",
     "text": [
      "/tmp/ipykernel_1347127/1401251787.py:17: UserWarning: you are shuffling a 'Series' object which is not a subclass of 'Sequence'; `shuffle` is not guaranteed to behave correctly. E.g., non-numpy array/tensor objects with view semantics may contain duplicates after shuffling.\n",
      "  np.random.shuffle(y_samp)\n"
     ]
    },
    {
     "name": "stdout",
     "output_type": "stream",
     "text": [
      "Tuning Done\n",
      "Threshold:  0.225\n",
      "Name:  permute Sensitivity:  0.0 , Specificity:  1.0 AUPRC:  0.613 , AUROC:  0.439 , MCC:  0.0  , F1-weighted:  0.216\n",
      "42\n"
     ]
    },
    {
     "name": "stderr",
     "output_type": "stream",
     "text": [
      "/tmp/ipykernel_1347127/1401251787.py:17: UserWarning: you are shuffling a 'Series' object which is not a subclass of 'Sequence'; `shuffle` is not guaranteed to behave correctly. E.g., non-numpy array/tensor objects with view semantics may contain duplicates after shuffling.\n",
      "  np.random.shuffle(y_samp)\n"
     ]
    },
    {
     "name": "stdout",
     "output_type": "stream",
     "text": [
      "Tuning Done\n",
      "Threshold:  0.555\n",
      "Name:  permute Sensitivity:  0.699 , Specificity:  0.217 AUPRC:  0.594 , AUROC:  0.525 , MCC:  -0.092  , F1-weighted:  0.49\n",
      "43\n"
     ]
    },
    {
     "name": "stderr",
     "output_type": "stream",
     "text": [
      "/tmp/ipykernel_1347127/1401251787.py:17: UserWarning: you are shuffling a 'Series' object which is not a subclass of 'Sequence'; `shuffle` is not guaranteed to behave correctly. E.g., non-numpy array/tensor objects with view semantics may contain duplicates after shuffling.\n",
      "  np.random.shuffle(y_samp)\n"
     ]
    },
    {
     "name": "stdout",
     "output_type": "stream",
     "text": [
      "Tuning Done\n",
      "Threshold:  0.41300000000000003\n",
      "Name:  permute Sensitivity:  0.603 , Specificity:  0.391 AUPRC:  0.612 , AUROC:  0.533 , MCC:  -0.006  , F1-weighted:  0.522\n",
      "44\n"
     ]
    },
    {
     "name": "stderr",
     "output_type": "stream",
     "text": [
      "/tmp/ipykernel_1347127/1401251787.py:17: UserWarning: you are shuffling a 'Series' object which is not a subclass of 'Sequence'; `shuffle` is not guaranteed to behave correctly. E.g., non-numpy array/tensor objects with view semantics may contain duplicates after shuffling.\n",
      "  np.random.shuffle(y_samp)\n"
     ]
    },
    {
     "name": "stdout",
     "output_type": "stream",
     "text": [
      "Tuning Done\n",
      "Threshold:  0.514\n",
      "Name:  permute Sensitivity:  0.849 , Specificity:  0.217 AUPRC:  0.63 , AUROC:  0.562 , MCC:  0.085  , F1-weighted:  0.56\n",
      "45\n"
     ]
    },
    {
     "name": "stderr",
     "output_type": "stream",
     "text": [
      "/tmp/ipykernel_1347127/1401251787.py:17: UserWarning: you are shuffling a 'Series' object which is not a subclass of 'Sequence'; `shuffle` is not guaranteed to behave correctly. E.g., non-numpy array/tensor objects with view semantics may contain duplicates after shuffling.\n",
      "  np.random.shuffle(y_samp)\n"
     ]
    },
    {
     "name": "stdout",
     "output_type": "stream",
     "text": [
      "Tuning Done\n",
      "Threshold:  0.342\n",
      "Name:  permute Sensitivity:  0.0 , Specificity:  1.0 AUPRC:  0.613 , AUROC:  0.554 , MCC:  0.0  , F1-weighted:  0.216\n",
      "46\n"
     ]
    },
    {
     "name": "stderr",
     "output_type": "stream",
     "text": [
      "/tmp/ipykernel_1347127/1401251787.py:17: UserWarning: you are shuffling a 'Series' object which is not a subclass of 'Sequence'; `shuffle` is not guaranteed to behave correctly. E.g., non-numpy array/tensor objects with view semantics may contain duplicates after shuffling.\n",
      "  np.random.shuffle(y_samp)\n"
     ]
    },
    {
     "name": "stdout",
     "output_type": "stream",
     "text": [
      "Tuning Done\n",
      "Threshold:  0.531\n",
      "Name:  permute Sensitivity:  0.959 , Specificity:  0.065 AUPRC:  0.619 , AUROC:  0.593 , MCC:  0.054  , F1-weighted:  0.506\n",
      "47\n"
     ]
    },
    {
     "name": "stderr",
     "output_type": "stream",
     "text": [
      "/tmp/ipykernel_1347127/1401251787.py:17: UserWarning: you are shuffling a 'Series' object which is not a subclass of 'Sequence'; `shuffle` is not guaranteed to behave correctly. E.g., non-numpy array/tensor objects with view semantics may contain duplicates after shuffling.\n",
      "  np.random.shuffle(y_samp)\n"
     ]
    },
    {
     "name": "stdout",
     "output_type": "stream",
     "text": [
      "Tuning Done\n",
      "Threshold:  0.522\n",
      "Name:  permute Sensitivity:  0.548 , Specificity:  0.63 AUPRC:  0.662 , AUROC:  0.566 , MCC:  0.174  , F1-weighted:  0.585\n",
      "48\n"
     ]
    },
    {
     "name": "stderr",
     "output_type": "stream",
     "text": [
      "/tmp/ipykernel_1347127/1401251787.py:17: UserWarning: you are shuffling a 'Series' object which is not a subclass of 'Sequence'; `shuffle` is not guaranteed to behave correctly. E.g., non-numpy array/tensor objects with view semantics may contain duplicates after shuffling.\n",
      "  np.random.shuffle(y_samp)\n"
     ]
    },
    {
     "name": "stdout",
     "output_type": "stream",
     "text": [
      "Tuning Done\n",
      "Threshold:  0.457\n",
      "Name:  permute Sensitivity:  0.425 , Specificity:  0.63 AUPRC:  0.627 , AUROC:  0.557 , MCC:  0.055  , F1-weighted:  0.506\n",
      "49\n"
     ]
    },
    {
     "name": "stderr",
     "output_type": "stream",
     "text": [
      "/tmp/ipykernel_1347127/1401251787.py:17: UserWarning: you are shuffling a 'Series' object which is not a subclass of 'Sequence'; `shuffle` is not guaranteed to behave correctly. E.g., non-numpy array/tensor objects with view semantics may contain duplicates after shuffling.\n",
      "  np.random.shuffle(y_samp)\n"
     ]
    },
    {
     "name": "stdout",
     "output_type": "stream",
     "text": [
      "Tuning Done\n",
      "Threshold:  0.5730000000000001\n",
      "Name:  permute Sensitivity:  0.781 , Specificity:  0.239 AUPRC:  0.618 , AUROC:  0.563 , MCC:  0.023  , F1-weighted:  0.54\n",
      "50\n"
     ]
    },
    {
     "name": "stderr",
     "output_type": "stream",
     "text": [
      "/tmp/ipykernel_1347127/1401251787.py:17: UserWarning: you are shuffling a 'Series' object which is not a subclass of 'Sequence'; `shuffle` is not guaranteed to behave correctly. E.g., non-numpy array/tensor objects with view semantics may contain duplicates after shuffling.\n",
      "  np.random.shuffle(y_samp)\n"
     ]
    },
    {
     "name": "stdout",
     "output_type": "stream",
     "text": [
      "Tuning Done\n",
      "Threshold:  0.613\n",
      "Name:  permute Sensitivity:  0.397 , Specificity:  0.5 AUPRC:  0.591 , AUROC:  0.452 , MCC:  -0.101  , F1-weighted:  0.442\n",
      "51\n"
     ]
    },
    {
     "name": "stderr",
     "output_type": "stream",
     "text": [
      "/tmp/ipykernel_1347127/1401251787.py:17: UserWarning: you are shuffling a 'Series' object which is not a subclass of 'Sequence'; `shuffle` is not guaranteed to behave correctly. E.g., non-numpy array/tensor objects with view semantics may contain duplicates after shuffling.\n",
      "  np.random.shuffle(y_samp)\n"
     ]
    },
    {
     "name": "stdout",
     "output_type": "stream",
     "text": [
      "Tuning Done\n",
      "Threshold:  0.449\n",
      "Name:  permute Sensitivity:  0.123 , Specificity:  0.935 AUPRC:  0.63 , AUROC:  0.558 , MCC:  0.094  , F1-weighted:  0.347\n",
      "52\n"
     ]
    },
    {
     "name": "stderr",
     "output_type": "stream",
     "text": [
      "/tmp/ipykernel_1347127/1401251787.py:17: UserWarning: you are shuffling a 'Series' object which is not a subclass of 'Sequence'; `shuffle` is not guaranteed to behave correctly. E.g., non-numpy array/tensor objects with view semantics may contain duplicates after shuffling.\n",
      "  np.random.shuffle(y_samp)\n"
     ]
    },
    {
     "name": "stdout",
     "output_type": "stream",
     "text": [
      "Tuning Done\n",
      "Threshold:  0.525\n",
      "Name:  permute Sensitivity:  0.534 , Specificity:  0.63 AUPRC:  0.658 , AUROC:  0.561 , MCC:  0.161  , F1-weighted:  0.577\n",
      "53\n"
     ]
    },
    {
     "name": "stderr",
     "output_type": "stream",
     "text": [
      "/tmp/ipykernel_1347127/1401251787.py:17: UserWarning: you are shuffling a 'Series' object which is not a subclass of 'Sequence'; `shuffle` is not guaranteed to behave correctly. E.g., non-numpy array/tensor objects with view semantics may contain duplicates after shuffling.\n",
      "  np.random.shuffle(y_samp)\n"
     ]
    },
    {
     "name": "stdout",
     "output_type": "stream",
     "text": [
      "Tuning Done\n",
      "Threshold:  0.374\n",
      "Name:  permute Sensitivity:  0.288 , Specificity:  0.522 AUPRC:  0.577 , AUROC:  0.5 , MCC:  -0.193  , F1-weighted:  0.374\n",
      "54\n"
     ]
    },
    {
     "name": "stderr",
     "output_type": "stream",
     "text": [
      "/tmp/ipykernel_1347127/1401251787.py:17: UserWarning: you are shuffling a 'Series' object which is not a subclass of 'Sequence'; `shuffle` is not guaranteed to behave correctly. E.g., non-numpy array/tensor objects with view semantics may contain duplicates after shuffling.\n",
      "  np.random.shuffle(y_samp)\n"
     ]
    },
    {
     "name": "stdout",
     "output_type": "stream",
     "text": [
      "Tuning Done\n",
      "Threshold:  0.512\n",
      "Name:  permute Sensitivity:  0.808 , Specificity:  0.239 AUPRC:  0.625 , AUROC:  0.556 , MCC:  0.057  , F1-weighted:  0.553\n",
      "55\n"
     ]
    },
    {
     "name": "stderr",
     "output_type": "stream",
     "text": [
      "/tmp/ipykernel_1347127/1401251787.py:17: UserWarning: you are shuffling a 'Series' object which is not a subclass of 'Sequence'; `shuffle` is not guaranteed to behave correctly. E.g., non-numpy array/tensor objects with view semantics may contain duplicates after shuffling.\n",
      "  np.random.shuffle(y_samp)\n"
     ]
    },
    {
     "name": "stdout",
     "output_type": "stream",
     "text": [
      "Tuning Done\n",
      "Threshold:  0.442\n",
      "Name:  permute Sensitivity:  0.0 , Specificity:  1.0 AUPRC:  0.613 , AUROC:  0.606 , MCC:  0.0  , F1-weighted:  0.216\n",
      "56\n"
     ]
    },
    {
     "name": "stderr",
     "output_type": "stream",
     "text": [
      "/tmp/ipykernel_1347127/1401251787.py:17: UserWarning: you are shuffling a 'Series' object which is not a subclass of 'Sequence'; `shuffle` is not guaranteed to behave correctly. E.g., non-numpy array/tensor objects with view semantics may contain duplicates after shuffling.\n",
      "  np.random.shuffle(y_samp)\n"
     ]
    },
    {
     "name": "stdout",
     "output_type": "stream",
     "text": [
      "Tuning Done\n",
      "Threshold:  0.641\n",
      "Name:  permute Sensitivity:  0.781 , Specificity:  0.13 AUPRC:  0.593 , AUROC:  0.396 , MCC:  -0.111  , F1-weighted:  0.48\n",
      "57\n"
     ]
    },
    {
     "name": "stderr",
     "output_type": "stream",
     "text": [
      "/tmp/ipykernel_1347127/1401251787.py:17: UserWarning: you are shuffling a 'Series' object which is not a subclass of 'Sequence'; `shuffle` is not guaranteed to behave correctly. E.g., non-numpy array/tensor objects with view semantics may contain duplicates after shuffling.\n",
      "  np.random.shuffle(y_samp)\n"
     ]
    },
    {
     "name": "stdout",
     "output_type": "stream",
     "text": [
      "Tuning Done\n",
      "Threshold:  0.5750000000000001\n",
      "Name:  permute Sensitivity:  0.479 , Specificity:  0.5 AUPRC:  0.609 , AUROC:  0.465 , MCC:  -0.02  , F1-weighted:  0.494\n",
      "58\n"
     ]
    },
    {
     "name": "stderr",
     "output_type": "stream",
     "text": [
      "/tmp/ipykernel_1347127/1401251787.py:17: UserWarning: you are shuffling a 'Series' object which is not a subclass of 'Sequence'; `shuffle` is not guaranteed to behave correctly. E.g., non-numpy array/tensor objects with view semantics may contain duplicates after shuffling.\n",
      "  np.random.shuffle(y_samp)\n"
     ]
    },
    {
     "name": "stdout",
     "output_type": "stream",
     "text": [
      "Tuning Done\n",
      "Threshold:  0.592\n",
      "Name:  permute Sensitivity:  1.0 , Specificity:  0.0 AUPRC:  0.613 , AUROC:  0.456 , MCC:  0.0  , F1-weighted:  0.466\n",
      "59\n"
     ]
    },
    {
     "name": "stderr",
     "output_type": "stream",
     "text": [
      "/tmp/ipykernel_1347127/1401251787.py:17: UserWarning: you are shuffling a 'Series' object which is not a subclass of 'Sequence'; `shuffle` is not guaranteed to behave correctly. E.g., non-numpy array/tensor objects with view semantics may contain duplicates after shuffling.\n",
      "  np.random.shuffle(y_samp)\n"
     ]
    },
    {
     "name": "stdout",
     "output_type": "stream",
     "text": [
      "Tuning Done\n",
      "Threshold:  0.223\n",
      "Name:  permute Sensitivity:  0.671 , Specificity:  0.261 AUPRC:  0.598 , AUROC:  0.4 , MCC:  -0.072  , F1-weighted:  0.499\n",
      "60\n"
     ]
    },
    {
     "name": "stderr",
     "output_type": "stream",
     "text": [
      "/tmp/ipykernel_1347127/1401251787.py:17: UserWarning: you are shuffling a 'Series' object which is not a subclass of 'Sequence'; `shuffle` is not guaranteed to behave correctly. E.g., non-numpy array/tensor objects with view semantics may contain duplicates after shuffling.\n",
      "  np.random.shuffle(y_samp)\n"
     ]
    },
    {
     "name": "stdout",
     "output_type": "stream",
     "text": [
      "Tuning Done\n",
      "Threshold:  0.28200000000000003\n",
      "Name:  permute Sensitivity:  0.164 , Specificity:  0.891 AUPRC:  0.629 , AUROC:  0.554 , MCC:  0.077  , F1-weighted:  0.378\n",
      "61\n"
     ]
    },
    {
     "name": "stderr",
     "output_type": "stream",
     "text": [
      "/tmp/ipykernel_1347127/1401251787.py:17: UserWarning: you are shuffling a 'Series' object which is not a subclass of 'Sequence'; `shuffle` is not guaranteed to behave correctly. E.g., non-numpy array/tensor objects with view semantics may contain duplicates after shuffling.\n",
      "  np.random.shuffle(y_samp)\n"
     ]
    },
    {
     "name": "stdout",
     "output_type": "stream",
     "text": [
      "Tuning Done\n",
      "Threshold:  0.398\n",
      "Name:  permute Sensitivity:  0.836 , Specificity:  0.13 AUPRC:  0.606 , AUROC:  0.377 , MCC:  -0.046  , F1-weighted:  0.503\n",
      "62\n"
     ]
    },
    {
     "name": "stderr",
     "output_type": "stream",
     "text": [
      "/tmp/ipykernel_1347127/1401251787.py:17: UserWarning: you are shuffling a 'Series' object which is not a subclass of 'Sequence'; `shuffle` is not guaranteed to behave correctly. E.g., non-numpy array/tensor objects with view semantics may contain duplicates after shuffling.\n",
      "  np.random.shuffle(y_samp)\n"
     ]
    },
    {
     "name": "stdout",
     "output_type": "stream",
     "text": [
      "Tuning Done\n",
      "Threshold:  0.6890000000000001\n",
      "Name:  permute Sensitivity:  0.89 , Specificity:  0.043 AUPRC:  0.598 , AUROC:  0.444 , MCC:  -0.116  , F1-weighted:  0.466\n",
      "63\n"
     ]
    },
    {
     "name": "stderr",
     "output_type": "stream",
     "text": [
      "/tmp/ipykernel_1347127/1401251787.py:17: UserWarning: you are shuffling a 'Series' object which is not a subclass of 'Sequence'; `shuffle` is not guaranteed to behave correctly. E.g., non-numpy array/tensor objects with view semantics may contain duplicates after shuffling.\n",
      "  np.random.shuffle(y_samp)\n"
     ]
    },
    {
     "name": "stdout",
     "output_type": "stream",
     "text": [
      "Tuning Done\n",
      "Threshold:  0.671\n",
      "Name:  permute Sensitivity:  0.959 , Specificity:  0.0 AUPRC:  0.604 , AUROC:  0.51 , MCC:  -0.128  , F1-weighted:  0.454\n",
      "64\n"
     ]
    },
    {
     "name": "stderr",
     "output_type": "stream",
     "text": [
      "/tmp/ipykernel_1347127/1401251787.py:17: UserWarning: you are shuffling a 'Series' object which is not a subclass of 'Sequence'; `shuffle` is not guaranteed to behave correctly. E.g., non-numpy array/tensor objects with view semantics may contain duplicates after shuffling.\n",
      "  np.random.shuffle(y_samp)\n"
     ]
    },
    {
     "name": "stdout",
     "output_type": "stream",
     "text": [
      "Tuning Done\n",
      "Threshold:  0.634\n",
      "Name:  permute Sensitivity:  0.178 , Specificity:  0.87 AUPRC:  0.626 , AUROC:  0.449 , MCC:  0.063  , F1-weighted:  0.385\n",
      "65\n"
     ]
    },
    {
     "name": "stderr",
     "output_type": "stream",
     "text": [
      "/tmp/ipykernel_1347127/1401251787.py:17: UserWarning: you are shuffling a 'Series' object which is not a subclass of 'Sequence'; `shuffle` is not guaranteed to behave correctly. E.g., non-numpy array/tensor objects with view semantics may contain duplicates after shuffling.\n",
      "  np.random.shuffle(y_samp)\n"
     ]
    },
    {
     "name": "stdout",
     "output_type": "stream",
     "text": [
      "Tuning Done\n",
      "Threshold:  0.201\n",
      "Name:  permute Sensitivity:  0.041 , Specificity:  1.0 AUPRC:  0.629 , AUROC:  0.618 , MCC:  0.128  , F1-weighted:  0.268\n",
      "66\n"
     ]
    },
    {
     "name": "stderr",
     "output_type": "stream",
     "text": [
      "/tmp/ipykernel_1347127/1401251787.py:17: UserWarning: you are shuffling a 'Series' object which is not a subclass of 'Sequence'; `shuffle` is not guaranteed to behave correctly. E.g., non-numpy array/tensor objects with view semantics may contain duplicates after shuffling.\n",
      "  np.random.shuffle(y_samp)\n"
     ]
    },
    {
     "name": "stdout",
     "output_type": "stream",
     "text": [
      "Tuning Done\n",
      "Threshold:  0.432\n",
      "Name:  permute Sensitivity:  0.315 , Specificity:  0.478 AUPRC:  0.574 , AUROC:  0.382 , MCC:  -0.206  , F1-weighted:  0.379\n",
      "67\n"
     ]
    },
    {
     "name": "stderr",
     "output_type": "stream",
     "text": [
      "/tmp/ipykernel_1347127/1401251787.py:17: UserWarning: you are shuffling a 'Series' object which is not a subclass of 'Sequence'; `shuffle` is not guaranteed to behave correctly. E.g., non-numpy array/tensor objects with view semantics may contain duplicates after shuffling.\n",
      "  np.random.shuffle(y_samp)\n"
     ]
    },
    {
     "name": "stdout",
     "output_type": "stream",
     "text": [
      "Tuning Done\n",
      "Threshold:  0.501\n",
      "Name:  permute Sensitivity:  0.397 , Specificity:  0.717 AUPRC:  0.644 , AUROC:  0.494 , MCC:  0.117  , F1-weighted:  0.517\n",
      "68\n"
     ]
    },
    {
     "name": "stderr",
     "output_type": "stream",
     "text": [
      "/tmp/ipykernel_1347127/1401251787.py:17: UserWarning: you are shuffling a 'Series' object which is not a subclass of 'Sequence'; `shuffle` is not guaranteed to behave correctly. E.g., non-numpy array/tensor objects with view semantics may contain duplicates after shuffling.\n",
      "  np.random.shuffle(y_samp)\n"
     ]
    },
    {
     "name": "stdout",
     "output_type": "stream",
     "text": [
      "Tuning Done\n",
      "Threshold:  0.379\n",
      "Name:  permute Sensitivity:  0.11 , Specificity:  1.0 AUPRC:  0.656 , AUROC:  0.554 , MCC:  0.213  , F1-weighted:  0.348\n",
      "69\n"
     ]
    },
    {
     "name": "stderr",
     "output_type": "stream",
     "text": [
      "/tmp/ipykernel_1347127/1401251787.py:17: UserWarning: you are shuffling a 'Series' object which is not a subclass of 'Sequence'; `shuffle` is not guaranteed to behave correctly. E.g., non-numpy array/tensor objects with view semantics may contain duplicates after shuffling.\n",
      "  np.random.shuffle(y_samp)\n"
     ]
    },
    {
     "name": "stdout",
     "output_type": "stream",
     "text": [
      "Tuning Done\n",
      "Threshold:  0.315\n",
      "Name:  permute Sensitivity:  0.589 , Specificity:  0.413 AUPRC:  0.614 , AUROC:  0.476 , MCC:  0.002  , F1-weighted:  0.524\n",
      "70\n"
     ]
    },
    {
     "name": "stderr",
     "output_type": "stream",
     "text": [
      "/tmp/ipykernel_1347127/1401251787.py:17: UserWarning: you are shuffling a 'Series' object which is not a subclass of 'Sequence'; `shuffle` is not guaranteed to behave correctly. E.g., non-numpy array/tensor objects with view semantics may contain duplicates after shuffling.\n",
      "  np.random.shuffle(y_samp)\n"
     ]
    },
    {
     "name": "stdout",
     "output_type": "stream",
     "text": [
      "Tuning Done\n",
      "Threshold:  0.501\n",
      "Name:  permute Sensitivity:  0.164 , Specificity:  0.935 AUPRC:  0.644 , AUROC:  0.473 , MCC:  0.145  , F1-weighted:  0.389\n",
      "71\n"
     ]
    },
    {
     "name": "stderr",
     "output_type": "stream",
     "text": [
      "/tmp/ipykernel_1347127/1401251787.py:17: UserWarning: you are shuffling a 'Series' object which is not a subclass of 'Sequence'; `shuffle` is not guaranteed to behave correctly. E.g., non-numpy array/tensor objects with view semantics may contain duplicates after shuffling.\n",
      "  np.random.shuffle(y_samp)\n"
     ]
    },
    {
     "name": "stdout",
     "output_type": "stream",
     "text": [
      "Tuning Done\n",
      "Threshold:  0.421\n",
      "Name:  permute Sensitivity:  0.479 , Specificity:  0.5 AUPRC:  0.609 , AUROC:  0.519 , MCC:  -0.02  , F1-weighted:  0.494\n",
      "72\n"
     ]
    },
    {
     "name": "stderr",
     "output_type": "stream",
     "text": [
      "/tmp/ipykernel_1347127/1401251787.py:17: UserWarning: you are shuffling a 'Series' object which is not a subclass of 'Sequence'; `shuffle` is not guaranteed to behave correctly. E.g., non-numpy array/tensor objects with view semantics may contain duplicates after shuffling.\n",
      "  np.random.shuffle(y_samp)\n"
     ]
    },
    {
     "name": "stdout",
     "output_type": "stream",
     "text": [
      "Tuning Done\n",
      "Threshold:  0.543\n",
      "Name:  permute Sensitivity:  1.0 , Specificity:  0.0 AUPRC:  0.613 , AUROC:  0.446 , MCC:  0.0  , F1-weighted:  0.466\n",
      "73\n"
     ]
    },
    {
     "name": "stderr",
     "output_type": "stream",
     "text": [
      "/tmp/ipykernel_1347127/1401251787.py:17: UserWarning: you are shuffling a 'Series' object which is not a subclass of 'Sequence'; `shuffle` is not guaranteed to behave correctly. E.g., non-numpy array/tensor objects with view semantics may contain duplicates after shuffling.\n",
      "  np.random.shuffle(y_samp)\n"
     ]
    },
    {
     "name": "stdout",
     "output_type": "stream",
     "text": [
      "Tuning Done\n",
      "Threshold:  0.51\n",
      "Name:  permute Sensitivity:  0.658 , Specificity:  0.304 AUPRC:  0.605 , AUROC:  0.494 , MCC:  -0.04  , F1-weighted:  0.512\n",
      "74\n"
     ]
    },
    {
     "name": "stderr",
     "output_type": "stream",
     "text": [
      "/tmp/ipykernel_1347127/1401251787.py:17: UserWarning: you are shuffling a 'Series' object which is not a subclass of 'Sequence'; `shuffle` is not guaranteed to behave correctly. E.g., non-numpy array/tensor objects with view semantics may contain duplicates after shuffling.\n",
      "  np.random.shuffle(y_samp)\n"
     ]
    },
    {
     "name": "stdout",
     "output_type": "stream",
     "text": [
      "Tuning Done\n",
      "Threshold:  0.425\n",
      "Name:  permute Sensitivity:  0.342 , Specificity:  0.63 AUPRC:  0.607 , AUROC:  0.495 , MCC:  -0.028  , F1-weighted:  0.449\n",
      "75\n"
     ]
    },
    {
     "name": "stderr",
     "output_type": "stream",
     "text": [
      "/tmp/ipykernel_1347127/1401251787.py:17: UserWarning: you are shuffling a 'Series' object which is not a subclass of 'Sequence'; `shuffle` is not guaranteed to behave correctly. E.g., non-numpy array/tensor objects with view semantics may contain duplicates after shuffling.\n",
      "  np.random.shuffle(y_samp)\n"
     ]
    },
    {
     "name": "stdout",
     "output_type": "stream",
     "text": [
      "Tuning Done\n",
      "Threshold:  0.5750000000000001\n",
      "Name:  permute Sensitivity:  0.877 , Specificity:  0.109 AUPRC:  0.61 , AUROC:  0.483 , MCC:  -0.022  , F1-weighted:  0.506\n",
      "76\n"
     ]
    },
    {
     "name": "stderr",
     "output_type": "stream",
     "text": [
      "/tmp/ipykernel_1347127/1401251787.py:17: UserWarning: you are shuffling a 'Series' object which is not a subclass of 'Sequence'; `shuffle` is not guaranteed to behave correctly. E.g., non-numpy array/tensor objects with view semantics may contain duplicates after shuffling.\n",
      "  np.random.shuffle(y_samp)\n"
     ]
    },
    {
     "name": "stdout",
     "output_type": "stream",
     "text": [
      "Tuning Done\n",
      "Threshold:  0.397\n",
      "Name:  permute Sensitivity:  0.041 , Specificity:  1.0 AUPRC:  0.629 , AUROC:  0.559 , MCC:  0.128  , F1-weighted:  0.268\n",
      "77\n"
     ]
    },
    {
     "name": "stderr",
     "output_type": "stream",
     "text": [
      "/tmp/ipykernel_1347127/1401251787.py:17: UserWarning: you are shuffling a 'Series' object which is not a subclass of 'Sequence'; `shuffle` is not guaranteed to behave correctly. E.g., non-numpy array/tensor objects with view semantics may contain duplicates after shuffling.\n",
      "  np.random.shuffle(y_samp)\n"
     ]
    },
    {
     "name": "stdout",
     "output_type": "stream",
     "text": [
      "Tuning Done\n",
      "Threshold:  0.582\n",
      "Name:  permute Sensitivity:  0.507 , Specificity:  0.522 AUPRC:  0.62 , AUROC:  0.493 , MCC:  0.028  , F1-weighted:  0.519\n",
      "78\n"
     ]
    },
    {
     "name": "stderr",
     "output_type": "stream",
     "text": [
      "/tmp/ipykernel_1347127/1401251787.py:17: UserWarning: you are shuffling a 'Series' object which is not a subclass of 'Sequence'; `shuffle` is not guaranteed to behave correctly. E.g., non-numpy array/tensor objects with view semantics may contain duplicates after shuffling.\n",
      "  np.random.shuffle(y_samp)\n"
     ]
    },
    {
     "name": "stdout",
     "output_type": "stream",
     "text": [
      "Tuning Done\n",
      "Threshold:  0.316\n",
      "Name:  permute Sensitivity:  0.068 , Specificity:  0.935 AUPRC:  0.614 , AUROC:  0.621 , MCC:  0.006  , F1-weighted:  0.287\n",
      "79\n"
     ]
    },
    {
     "name": "stderr",
     "output_type": "stream",
     "text": [
      "/tmp/ipykernel_1347127/1401251787.py:17: UserWarning: you are shuffling a 'Series' object which is not a subclass of 'Sequence'; `shuffle` is not guaranteed to behave correctly. E.g., non-numpy array/tensor objects with view semantics may contain duplicates after shuffling.\n",
      "  np.random.shuffle(y_samp)\n"
     ]
    },
    {
     "name": "stdout",
     "output_type": "stream",
     "text": [
      "Tuning Done\n",
      "Threshold:  0.5680000000000001\n",
      "Name:  permute Sensitivity:  0.904 , Specificity:  0.109 AUPRC:  0.616 , AUROC:  0.545 , MCC:  0.021  , F1-weighted:  0.517\n",
      "80\n"
     ]
    },
    {
     "name": "stderr",
     "output_type": "stream",
     "text": [
      "/tmp/ipykernel_1347127/1401251787.py:17: UserWarning: you are shuffling a 'Series' object which is not a subclass of 'Sequence'; `shuffle` is not guaranteed to behave correctly. E.g., non-numpy array/tensor objects with view semantics may contain duplicates after shuffling.\n",
      "  np.random.shuffle(y_samp)\n"
     ]
    },
    {
     "name": "stdout",
     "output_type": "stream",
     "text": [
      "Tuning Done\n",
      "Threshold:  0.307\n",
      "Name:  permute Sensitivity:  0.014 , Specificity:  1.0 AUPRC:  0.619 , AUROC:  0.593 , MCC:  0.073  , F1-weighted:  0.233\n",
      "81\n"
     ]
    },
    {
     "name": "stderr",
     "output_type": "stream",
     "text": [
      "/tmp/ipykernel_1347127/1401251787.py:17: UserWarning: you are shuffling a 'Series' object which is not a subclass of 'Sequence'; `shuffle` is not guaranteed to behave correctly. E.g., non-numpy array/tensor objects with view semantics may contain duplicates after shuffling.\n",
      "  np.random.shuffle(y_samp)\n"
     ]
    },
    {
     "name": "stdout",
     "output_type": "stream",
     "text": [
      "Tuning Done\n",
      "Threshold:  0.454\n",
      "Name:  permute Sensitivity:  0.137 , Specificity:  0.957 AUPRC:  0.644 , AUROC:  0.591 , MCC:  0.151  , F1-weighted:  0.367\n",
      "82\n"
     ]
    },
    {
     "name": "stderr",
     "output_type": "stream",
     "text": [
      "/tmp/ipykernel_1347127/1401251787.py:17: UserWarning: you are shuffling a 'Series' object which is not a subclass of 'Sequence'; `shuffle` is not guaranteed to behave correctly. E.g., non-numpy array/tensor objects with view semantics may contain duplicates after shuffling.\n",
      "  np.random.shuffle(y_samp)\n"
     ]
    },
    {
     "name": "stdout",
     "output_type": "stream",
     "text": [
      "Tuning Done\n",
      "Threshold:  0.66\n",
      "Name:  permute Sensitivity:  0.753 , Specificity:  0.152 AUPRC:  0.592 , AUROC:  0.468 , MCC:  -0.113  , F1-weighted:  0.48\n",
      "83\n"
     ]
    },
    {
     "name": "stderr",
     "output_type": "stream",
     "text": [
      "/tmp/ipykernel_1347127/1401251787.py:17: UserWarning: you are shuffling a 'Series' object which is not a subclass of 'Sequence'; `shuffle` is not guaranteed to behave correctly. E.g., non-numpy array/tensor objects with view semantics may contain duplicates after shuffling.\n",
      "  np.random.shuffle(y_samp)\n"
     ]
    },
    {
     "name": "stdout",
     "output_type": "stream",
     "text": [
      "Tuning Done\n",
      "Threshold:  0.0\n",
      "Name:  permute Sensitivity:  0.178 , Specificity:  0.674 AUPRC:  0.587 , AUROC:  0.432 , MCC:  -0.17  , F1-weighted:  0.333\n",
      "84\n"
     ]
    },
    {
     "name": "stderr",
     "output_type": "stream",
     "text": [
      "/tmp/ipykernel_1347127/1401251787.py:17: UserWarning: you are shuffling a 'Series' object which is not a subclass of 'Sequence'; `shuffle` is not guaranteed to behave correctly. E.g., non-numpy array/tensor objects with view semantics may contain duplicates after shuffling.\n",
      "  np.random.shuffle(y_samp)\n"
     ]
    },
    {
     "name": "stdout",
     "output_type": "stream",
     "text": [
      "Tuning Done\n",
      "Threshold:  0.431\n",
      "Name:  permute Sensitivity:  0.11 , Specificity:  0.957 AUPRC:  0.634 , AUROC:  0.499 , MCC:  0.116  , F1-weighted:  0.338\n",
      "85\n"
     ]
    },
    {
     "name": "stderr",
     "output_type": "stream",
     "text": [
      "/tmp/ipykernel_1347127/1401251787.py:17: UserWarning: you are shuffling a 'Series' object which is not a subclass of 'Sequence'; `shuffle` is not guaranteed to behave correctly. E.g., non-numpy array/tensor objects with view semantics may contain duplicates after shuffling.\n",
      "  np.random.shuffle(y_samp)\n"
     ]
    },
    {
     "name": "stdout",
     "output_type": "stream",
     "text": [
      "Tuning Done\n",
      "Threshold:  0.481\n",
      "Name:  permute Sensitivity:  0.685 , Specificity:  0.457 AUPRC:  0.65 , AUROC:  0.566 , MCC:  0.143  , F1-weighted:  0.595\n",
      "86\n"
     ]
    },
    {
     "name": "stderr",
     "output_type": "stream",
     "text": [
      "/tmp/ipykernel_1347127/1401251787.py:17: UserWarning: you are shuffling a 'Series' object which is not a subclass of 'Sequence'; `shuffle` is not guaranteed to behave correctly. E.g., non-numpy array/tensor objects with view semantics may contain duplicates after shuffling.\n",
      "  np.random.shuffle(y_samp)\n"
     ]
    },
    {
     "name": "stdout",
     "output_type": "stream",
     "text": [
      "Tuning Done\n",
      "Threshold:  0.596\n",
      "Name:  permute Sensitivity:  0.712 , Specificity:  0.174 AUPRC:  0.588 , AUROC:  0.483 , MCC:  -0.129  , F1-weighted:  0.474\n",
      "87\n"
     ]
    },
    {
     "name": "stderr",
     "output_type": "stream",
     "text": [
      "/tmp/ipykernel_1347127/1401251787.py:17: UserWarning: you are shuffling a 'Series' object which is not a subclass of 'Sequence'; `shuffle` is not guaranteed to behave correctly. E.g., non-numpy array/tensor objects with view semantics may contain duplicates after shuffling.\n",
      "  np.random.shuffle(y_samp)\n"
     ]
    },
    {
     "name": "stdout",
     "output_type": "stream",
     "text": [
      "Tuning Done\n",
      "Threshold:  0.495\n",
      "Name:  permute Sensitivity:  0.808 , Specificity:  0.239 AUPRC:  0.625 , AUROC:  0.478 , MCC:  0.057  , F1-weighted:  0.553\n",
      "88\n"
     ]
    },
    {
     "name": "stderr",
     "output_type": "stream",
     "text": [
      "/tmp/ipykernel_1347127/1401251787.py:17: UserWarning: you are shuffling a 'Series' object which is not a subclass of 'Sequence'; `shuffle` is not guaranteed to behave correctly. E.g., non-numpy array/tensor objects with view semantics may contain duplicates after shuffling.\n",
      "  np.random.shuffle(y_samp)\n"
     ]
    },
    {
     "name": "stdout",
     "output_type": "stream",
     "text": [
      "Tuning Done\n",
      "Threshold:  0.63\n",
      "Name:  permute Sensitivity:  0.575 , Specificity:  0.304 AUPRC:  0.587 , AUROC:  0.459 , MCC:  -0.121  , F1-weighted:  0.469\n",
      "89\n"
     ]
    },
    {
     "name": "stderr",
     "output_type": "stream",
     "text": [
      "/tmp/ipykernel_1347127/1401251787.py:17: UserWarning: you are shuffling a 'Series' object which is not a subclass of 'Sequence'; `shuffle` is not guaranteed to behave correctly. E.g., non-numpy array/tensor objects with view semantics may contain duplicates after shuffling.\n",
      "  np.random.shuffle(y_samp)\n"
     ]
    },
    {
     "name": "stdout",
     "output_type": "stream",
     "text": [
      "Tuning Done\n",
      "Threshold:  0.403\n",
      "Name:  permute Sensitivity:  0.699 , Specificity:  0.239 AUPRC:  0.599 , AUROC:  0.459 , MCC:  -0.068  , F1-weighted:  0.501\n",
      "90\n"
     ]
    },
    {
     "name": "stderr",
     "output_type": "stream",
     "text": [
      "/tmp/ipykernel_1347127/1401251787.py:17: UserWarning: you are shuffling a 'Series' object which is not a subclass of 'Sequence'; `shuffle` is not guaranteed to behave correctly. E.g., non-numpy array/tensor objects with view semantics may contain duplicates after shuffling.\n",
      "  np.random.shuffle(y_samp)\n"
     ]
    },
    {
     "name": "stdout",
     "output_type": "stream",
     "text": [
      "Tuning Done\n",
      "Threshold:  0.521\n",
      "Name:  permute Sensitivity:  0.89 , Specificity:  0.087 AUPRC:  0.608 , AUROC:  0.5 , MCC:  -0.037  , F1-weighted:  0.496\n",
      "91\n"
     ]
    },
    {
     "name": "stderr",
     "output_type": "stream",
     "text": [
      "/tmp/ipykernel_1347127/1401251787.py:17: UserWarning: you are shuffling a 'Series' object which is not a subclass of 'Sequence'; `shuffle` is not guaranteed to behave correctly. E.g., non-numpy array/tensor objects with view semantics may contain duplicates after shuffling.\n",
      "  np.random.shuffle(y_samp)\n"
     ]
    },
    {
     "name": "stdout",
     "output_type": "stream",
     "text": [
      "Tuning Done\n",
      "Threshold:  0.491\n",
      "Name:  permute Sensitivity:  0.247 , Specificity:  0.848 AUPRC:  0.64 , AUROC:  0.48 , MCC:  0.113  , F1-weighted:  0.441\n",
      "92\n"
     ]
    },
    {
     "name": "stderr",
     "output_type": "stream",
     "text": [
      "/tmp/ipykernel_1347127/1401251787.py:17: UserWarning: you are shuffling a 'Series' object which is not a subclass of 'Sequence'; `shuffle` is not guaranteed to behave correctly. E.g., non-numpy array/tensor objects with view semantics may contain duplicates after shuffling.\n",
      "  np.random.shuffle(y_samp)\n"
     ]
    },
    {
     "name": "stdout",
     "output_type": "stream",
     "text": [
      "Tuning Done\n",
      "Threshold:  0.47700000000000004\n",
      "Name:  permute Sensitivity:  0.863 , Specificity:  0.196 AUPRC:  0.628 , AUROC:  0.468 , MCC:  0.078  , F1-weighted:  0.554\n",
      "93\n"
     ]
    },
    {
     "name": "stderr",
     "output_type": "stream",
     "text": [
      "/tmp/ipykernel_1347127/1401251787.py:17: UserWarning: you are shuffling a 'Series' object which is not a subclass of 'Sequence'; `shuffle` is not guaranteed to behave correctly. E.g., non-numpy array/tensor objects with view semantics may contain duplicates after shuffling.\n",
      "  np.random.shuffle(y_samp)\n"
     ]
    },
    {
     "name": "stdout",
     "output_type": "stream",
     "text": [
      "Tuning Done\n",
      "Threshold:  0.0\n",
      "Name:  permute Sensitivity:  0.986 , Specificity:  0.0 AUPRC:  0.61 , AUROC:  0.426 , MCC:  -0.073  , F1-weighted:  0.462\n",
      "94\n"
     ]
    },
    {
     "name": "stderr",
     "output_type": "stream",
     "text": [
      "/tmp/ipykernel_1347127/1401251787.py:17: UserWarning: you are shuffling a 'Series' object which is not a subclass of 'Sequence'; `shuffle` is not guaranteed to behave correctly. E.g., non-numpy array/tensor objects with view semantics may contain duplicates after shuffling.\n",
      "  np.random.shuffle(y_samp)\n"
     ]
    },
    {
     "name": "stdout",
     "output_type": "stream",
     "text": [
      "Tuning Done\n",
      "Threshold:  0.35100000000000003\n",
      "Name:  permute Sensitivity:  0.11 , Specificity:  0.848 AUPRC:  0.605 , AUROC:  0.475 , MCC:  -0.062  , F1-weighted:  0.313\n",
      "95\n"
     ]
    },
    {
     "name": "stderr",
     "output_type": "stream",
     "text": [
      "/tmp/ipykernel_1347127/1401251787.py:17: UserWarning: you are shuffling a 'Series' object which is not a subclass of 'Sequence'; `shuffle` is not guaranteed to behave correctly. E.g., non-numpy array/tensor objects with view semantics may contain duplicates after shuffling.\n",
      "  np.random.shuffle(y_samp)\n"
     ]
    },
    {
     "name": "stdout",
     "output_type": "stream",
     "text": [
      "Tuning Done\n",
      "Threshold:  0.801\n",
      "Name:  permute Sensitivity:  0.479 , Specificity:  0.522 AUPRC:  0.614 , AUROC:  0.456 , MCC:  0.001  , F1-weighted:  0.502\n",
      "96\n"
     ]
    },
    {
     "name": "stderr",
     "output_type": "stream",
     "text": [
      "/tmp/ipykernel_1347127/1401251787.py:17: UserWarning: you are shuffling a 'Series' object which is not a subclass of 'Sequence'; `shuffle` is not guaranteed to behave correctly. E.g., non-numpy array/tensor objects with view semantics may contain duplicates after shuffling.\n",
      "  np.random.shuffle(y_samp)\n"
     ]
    },
    {
     "name": "stdout",
     "output_type": "stream",
     "text": [
      "Tuning Done\n",
      "Threshold:  0.684\n",
      "Name:  permute Sensitivity:  1.0 , Specificity:  0.0 AUPRC:  0.613 , AUROC:  0.553 , MCC:  0.0  , F1-weighted:  0.466\n",
      "97\n"
     ]
    },
    {
     "name": "stderr",
     "output_type": "stream",
     "text": [
      "/tmp/ipykernel_1347127/1401251787.py:17: UserWarning: you are shuffling a 'Series' object which is not a subclass of 'Sequence'; `shuffle` is not guaranteed to behave correctly. E.g., non-numpy array/tensor objects with view semantics may contain duplicates after shuffling.\n",
      "  np.random.shuffle(y_samp)\n"
     ]
    },
    {
     "name": "stdout",
     "output_type": "stream",
     "text": [
      "Tuning Done\n",
      "Threshold:  0.758\n",
      "Name:  permute Sensitivity:  1.0 , Specificity:  0.0 AUPRC:  0.613 , AUROC:  0.487 , MCC:  0.0  , F1-weighted:  0.466\n",
      "98\n"
     ]
    },
    {
     "name": "stderr",
     "output_type": "stream",
     "text": [
      "/tmp/ipykernel_1347127/1401251787.py:17: UserWarning: you are shuffling a 'Series' object which is not a subclass of 'Sequence'; `shuffle` is not guaranteed to behave correctly. E.g., non-numpy array/tensor objects with view semantics may contain duplicates after shuffling.\n",
      "  np.random.shuffle(y_samp)\n"
     ]
    },
    {
     "name": "stdout",
     "output_type": "stream",
     "text": [
      "Tuning Done\n",
      "Threshold:  0.507\n",
      "Name:  permute Sensitivity:  0.534 , Specificity:  0.739 AUPRC:  0.694 , AUROC:  0.657 , MCC:  0.269  , F1-weighted:  0.616\n",
      "99\n"
     ]
    },
    {
     "name": "stderr",
     "output_type": "stream",
     "text": [
      "/tmp/ipykernel_1347127/1401251787.py:17: UserWarning: you are shuffling a 'Series' object which is not a subclass of 'Sequence'; `shuffle` is not guaranteed to behave correctly. E.g., non-numpy array/tensor objects with view semantics may contain duplicates after shuffling.\n",
      "  np.random.shuffle(y_samp)\n"
     ]
    },
    {
     "name": "stdout",
     "output_type": "stream",
     "text": [
      "Tuning Done\n",
      "Threshold:  0.395\n",
      "Name:  permute Sensitivity:  0.233 , Specificity:  0.848 AUPRC:  0.636 , AUROC:  0.538 , MCC:  0.098  , F1-weighted:  0.429\n"
     ]
    }
   ],
   "source": [
    "#permutation test using the same sampling-classifier-num_feats configuration as the best results - ROS-ET-0.5\n",
    "feats = [20]; sc = MinMaxScaler();\n",
    "X_train_sel = train_data_feats[top_feats_after_rfecv[0:17]]\n",
    "X_train_sel = pd.DataFrame(sc.fit_transform(X_train_sel),columns = X_train_sel.columns)\n",
    "samp = RandomOverSampler(random_state=42)\n",
    "X_samp, y_samp=samp.fit_resample(X_train_sel,train_labs)\n",
    "X_samp = pd.DataFrame(X_samp, columns = X_train_sel.columns)\n",
    "X_test = val_data_feats_106977[top_feats_after_rfecv[0:17]]; y_test = val_labs_106977\n",
    "\n",
    "\n",
    "# Permutation test or the resampling test.\n",
    "permuted_accuracies = []; p_sen=[];p_spe=[];p_auroc=[];p_auprc=[];p_mcc=[];p_f1=[]\n",
    "permutation_iters = 100 # We run the procedure many times to have a 'good enough' estimate of the accuracy of a chance model.\n",
    "for i in range(permutation_iters):\n",
    "    print(i)\n",
    "    # Shuffle the dataset here so that the target species/labels are `randomly` assigned to the samples.\n",
    "    np.random.shuffle(y_samp)\n",
    "    \n",
    "    # When we obtain train and test splits, the assignments are random.\n",
    "    best_mod, b = model_tune_et(X_samp,y_samp)\n",
    "    y_t, y_p, sen_c, spe_c, auprc_c, acc_c, auc_c, mcc_c, f1_c, t_c = print_metrics_with_threshold_tuning(\"permute\",X_test,y_test,top_feats_after_rfecv[0:17],best_mod)\n",
    "    p_sen.append(sen_c)\n",
    "    p_spe.append(spe_c)\n",
    "    p_auroc.append(auc_c)\n",
    "    p_auprc.append(auprc_c)\n",
    "    p_mcc.append(mcc_c)\n",
    "    p_f1.append(f1_c)"
   ]
  },
  {
   "cell_type": "code",
   "execution_count": 75,
   "metadata": {},
   "outputs": [],
   "source": [
    "random_results_106977 = pd.DataFrame({'Sen': p_sen,'Spe': p_spe, 'AUC': p_auroc,'AUPRC': p_auprc,'MCC':p_mcc,'F1':p_f1})\n",
    "random_results_106977.to_csv('/home/shayantan/TNBC-single-cell/Reproducibility_best_results/random_permutation_test_results_106977.csv')"
   ]
  },
  {
   "cell_type": "code",
   "execution_count": 65,
   "metadata": {},
   "outputs": [],
   "source": [
    "random_results_combined = pd.DataFrame({'Sen': p_sen,'Spe': p_spe, 'AUC': p_auroc,'AUPRC': p_auprc,'MCC':p_mcc,'F1':p_f1})\n",
    "random_results_combined.to_csv('/home/shayantan/TNBC-single-cell/Reproducibility_best_results/random_permutation_test_results_20271-20194-31519.csv')"
   ]
  },
  {
   "cell_type": "code",
   "execution_count": 71,
   "metadata": {},
   "outputs": [],
   "source": [
    "from scipy import stats\n",
    "\n",
    "def test_significantly_less(data, fixed_value, alpha=0.05):\n",
    "    \"\"\"\n",
    "    Perform one-sample t-test to determine if the data is significantly less than the fixed value.\n",
    "    \n",
    "    Parameters:\n",
    "    - data: list or array-like, the data values\n",
    "    - fixed_value: float, the fixed value to compare against\n",
    "    - alpha: float, the significance level (default is 0.05)\n",
    "    \n",
    "    Returns:\n",
    "    - result: tuple, containing test statistic and p-value\n",
    "    - is_significant: bool, indicating if the difference is statistically significant\n",
    "    \"\"\"\n",
    "    # Perform one-sample t-test\n",
    "    result = stats.ttest_1samp(data, fixed_value)\n",
    "    \n",
    "    # Extract test statistic and p-value\n",
    "    t_statistic, p_value = result\n",
    "    \n",
    "    # Check if the p-value is less than alpha\n",
    "    is_significant = p_value < alpha\n",
    "    \n",
    "    return result, is_significant\n"
   ]
  },
  {
   "cell_type": "code",
   "execution_count": 73,
   "metadata": {},
   "outputs": [
    {
     "name": "stdout",
     "output_type": "stream",
     "text": [
      "Results for permutation tests - t test p value - 20271-20194-31519\n",
      "\n",
      "Test statistic: -42.8637003433758\n",
      "P-value: 9.840616791303992e-66\n",
      "Is significantly less than fixed value at 0.05 level? True\n"
     ]
    }
   ],
   "source": [
    "# Example usage:\n",
    "print(\"Results for permutation tests - t test p value - 20271-20194-31519\\n\")\n",
    "data = p_auroc  # Sample data\n",
    "fixed_value = 0.782  # Fixed value to compare against\n",
    "alpha = 0.05  # Significance level\n",
    "\n",
    "result, is_significant = test_significantly_less(data, fixed_value, alpha)\n",
    "print(\"Test statistic:\", result[0])\n",
    "print(\"P-value:\", result[1])\n",
    "print(\"Is significantly less than fixed value at\", alpha, \"level?\", is_significant)"
   ]
  },
  {
   "cell_type": "code",
   "execution_count": 76,
   "metadata": {},
   "outputs": [
    {
     "name": "stdout",
     "output_type": "stream",
     "text": [
      "Results for permutation tests - t test p value - 106977\n",
      "\n",
      "Test statistic: -23.46188652872625\n",
      "P-value: 3.167838675140307e-42\n",
      "Is significantly less than fixed value at 0.05 level? True\n"
     ]
    }
   ],
   "source": [
    "# Example usage:\n",
    "print(\"Results for permutation tests - t test p value - 106977\\n\")\n",
    "data = p_auroc  # Sample data\n",
    "fixed_value = 0.666  # Fixed value to compare against\n",
    "alpha = 0.05  # Significance level\n",
    "\n",
    "result, is_significant = test_significantly_less(data, fixed_value, alpha)\n",
    "print(\"Test statistic:\", result[0])\n",
    "print(\"P-value:\", result[1])\n",
    "print(\"Is significantly less than fixed value at\", alpha, \"level?\", is_significant)"
   ]
  },
  {
   "cell_type": "code",
   "execution_count": 70,
   "metadata": {},
   "outputs": [
    {
     "name": "stdout",
     "output_type": "stream",
     "text": [
      "For 20271-20194-31519 results of permutation tests: Sen:  0.49858 Spe:  0.49501000000000006 AUROC:  0.49305 AUPRC:  0.6192 MCC:  -0.005390000000000001 F1:  0.4993699999999999\n"
     ]
    }
   ],
   "source": [
    "print(\"For 20271-20194-31519 results of permutation tests:\", \"Sen: \", np.mean(p_sen), \"Spe: \", np.mean(p_spe), \"AUROC: \", np.mean(p_auroc), \"AUPRC: \", np.mean(p_auprc), \"MCC: \", np.mean(p_mcc), \"F1: \", np.mean(p_f1))"
   ]
  },
  {
   "cell_type": "code",
   "execution_count": 77,
   "metadata": {},
   "outputs": [
    {
     "name": "stdout",
     "output_type": "stream",
     "text": [
      "For 106977 results of permutation tests: Sen:  0.4881999999999999 Spe:  0.5186799999999999 AUROC:  0.5056999999999999 AUPRC:  0.61736 MCC:  0.009219999999999999 F1:  0.43709000000000003\n"
     ]
    }
   ],
   "source": [
    "print(\"For 106977 results of permutation tests:\", \"Sen: \", np.mean(p_sen), \"Spe: \", np.mean(p_spe), \"AUROC: \", np.mean(p_auroc), \"AUPRC: \", np.mean(p_auprc), \"MCC: \", np.mean(p_mcc), \"F1: \", np.mean(p_f1))"
   ]
  },
  {
   "cell_type": "code",
   "execution_count": 67,
   "metadata": {},
   "outputs": [
    {
     "data": {
      "image/png": "[encoded data removed]",
      "text/plain": [
       "<Figure size 576x396 with 1 Axes>"
      ]
     },
     "metadata": {},
     "output_type": "display_data"
    }
   ],
   "source": [
    "import matplotlib.pyplot as plt\n",
    "\n",
    "fig, ax = plt.subplots()\n",
    "score = 0.782; \n",
    "#pvalue_iris = np.mean(p_auroc > score)\n",
    "pvalue = 0.0001\n",
    "ax.hist(p_auroc, bins=20, density=True)\n",
    "ax.axvline(score, ls=\"--\", color=\"r\")\n",
    "score_label = f\"Score on original\\ndata: {score:.2f}\\n(p-value: {pvalue:.3f})\"\n",
    "ax.text(0.7, 10, score_label, fontsize=12)\n",
    "ax.set_xlabel(\"AUROC\")\n",
    "_ = ax.set_ylabel(\"Probability density\")"
   ]
  },
  {
   "cell_type": "code",
   "execution_count": 78,
   "metadata": {},
   "outputs": [
    {
     "data": {
      "image/png": "[encoded data removed]",
      "text/plain": [
       "<Figure size 576x396 with 1 Axes>"
      ]
     },
     "metadata": {},
     "output_type": "display_data"
    }
   ],
   "source": [
    "import matplotlib.pyplot as plt\n",
    "\n",
    "fig, ax = plt.subplots()\n",
    "score = 0.666; \n",
    "#pvalue_iris = np.mean(p_auroc > score)\n",
    "pvalue = 0.0001\n",
    "ax.hist(p_auroc, bins=20, density=True)\n",
    "ax.axvline(score, ls=\"--\", color=\"r\")\n",
    "score_label = f\"Score on original\\ndata: {score:.2f}\\n(p-value: {pvalue:.3f})\"\n",
    "ax.text(0.7, 10, score_label, fontsize=12)\n",
    "ax.set_xlabel(\"AUROC\")\n",
    "_ = ax.set_ylabel(\"Probability density\")"
   ]
  },
  {
   "cell_type": "code",
   "execution_count": 82,
   "metadata": {},
   "outputs": [],
   "source": [
    "from sklearn.metrics import *\n",
    "def print_metrics_with_threshold_tuning(name, X_test,y_test, cols, best_model):\n",
    "    y_probs = best_model.predict_proba(X_test[cols])[:,1]\n",
    "    thresholds = arange(0, 1, 0.001).tolist()\n",
    "    scores = [roc_auc_score(y_test, convert_to_labels(y_probs, t)) for t in thresholds]\n",
    "    ix = argmax(scores)\n",
    "    print(\"Threshold: \", thresholds[ix])\n",
    "    y_test_predictions = np.where(best_model.predict_proba(X_test[cols])[:,1] > thresholds[ix], 1, 0)\n",
    "    y_test_predictions=best_model.predict(X_test[cols])\n",
    "    fp_rate, tp_rate, thresh = roc_curve(y_test, y_probs)\n",
    "    y_test_predictions = best_model.predict(X_test[cols])\n",
    "    auc = roc_auc_score(y_test, y_probs)\n",
    "    sen= sensitivity_score(y_test, y_test_predictions, pos_label=1)\n",
    "    spe=specificity_score(y_test,y_test_predictions,pos_label=1)\n",
    "    acc=balanced_accuracy_score(y_test,y_test_predictions)\n",
    "    mcc=matthews_corrcoef(y_test, y_test_predictions)\n",
    "    auprc = average_precision_score(y_test, y_test_predictions)\n",
    "    f1 = f1_score(y_test, y_test_predictions, average=\"weighted\")\n",
    "    #print(classification_report(y_test, y_test_predictions))\n",
    "    print(\"Name: \",name,\"Sensitivity: \",np.round(sen,3),\", Specificity: \",np.round(spe,3),\"AUPRC: \",np.round(auprc,3),\", AUROC: \",np.round(auc,3),\", MCC: \",np.round(mcc,3),\" , F1-weighted: \", np.round(f1,3) )\n",
    "    return(y_test_predictions, y_probs, np.round(sen,3), np.round(spe,3),np.round(auprc,3), np.round(acc,3), np.round(auc,3), np.round(mcc,3), np.round(f1,3), thresholds[ix])"
   ]
  },
  {
   "cell_type": "code",
   "execution_count": null,
   "metadata": {},
   "outputs": [],
   "source": []
  }
 ],
 "metadata": {
  "kernelspec": {
   "display_name": "Python 3",
   "language": "python",
   "name": "python3"
  },
  "language_info": {
   "codemirror_mode": {
    "name": "ipython",
    "version": 3
   },
   "file_extension": ".py",
   "mimetype": "text/x-python",
   "name": "python",
   "nbconvert_exporter": "python",
   "pygments_lexer": "ipython3",
   "version": "3.10.12"
  }
 },
 "nbformat": 4,
 "nbformat_minor": 2
}
